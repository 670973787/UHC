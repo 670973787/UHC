{
 "cells": [
  {
   "cell_type": "code",
   "execution_count": 3,
   "metadata": {},
   "outputs": [],
   "source": [
    "import warnings\n",
    "warnings.filterwarnings('ignore')\n",
    "import pandas as pd\n",
    "import numpy as np\n",
    "from scipy.stats import chi2_contingency\n",
    "import copy\n",
    "import time\n",
    "%matplotlib inline\n",
    "np.random.seed(0)"
   ]
  },
  {
   "cell_type": "code",
   "execution_count": 4,
   "metadata": {},
   "outputs": [],
   "source": [
    "from pymatch.Matcher import Matcher"
   ]
  },
  {
   "cell_type": "code",
   "execution_count": 12,
   "metadata": {},
   "outputs": [],
   "source": [
    "drug1 = pd.read_csv('/Users/likehang/Desktop/data/drug1.csv')\n",
    "drug2 = pd.read_csv('/Users/likehang/Desktop/data/drug2.csv')\n",
    "drug3 = pd.read_csv('/Users/likehang/Desktop/data/drug3.csv')\n",
    "drug4 = pd.read_csv('/Users/likehang/Desktop/data/drug4.csv')\n",
    "drug5 = pd.read_csv('/Users/likehang/Desktop/data/drug5.csv')\n",
    "drug6 = pd.read_csv('/Users/likehang/Desktop/data/drug6.csv')\n",
    "drug7 = pd.read_csv('/Users/likehang/Desktop/data/drug7.csv')\n",
    "drug8 = pd.read_csv('/Users/likehang/Desktop/data/drug8.csv')\n",
    "drug9 = pd.read_csv('/Users/likehang/Desktop/data/drug9.csv')\n",
    "drug10 = pd.read_csv('/Users/likehang/Desktop/data/drug10.csv')\n",
    "d1 = pd.read_csv('/Users/likehang/Desktop/data/disease1.csv')\n",
    "d2 = pd.read_csv('/Users/likehang/Desktop/data/disease2.csv')\n",
    "d3 = pd.read_csv('/Users/likehang/Desktop/data/disease3.csv')\n",
    "d4 = pd.read_csv('/Users/likehang/Desktop/data/disease4.csv')\n",
    "d5 = pd.read_csv('/Users/likehang/Desktop/data/disease5.csv')\n",
    "d6 = pd.read_csv('/Users/likehang/Desktop/data/disease6.csv')\n",
    "d7 = pd.read_csv('/Users/likehang/Desktop/data/disease7.csv')\n",
    "d8 = pd.read_csv('/Users/likehang/Desktop/data/disease8.csv')"
   ]
  },
  {
   "cell_type": "code",
   "execution_count": 13,
   "metadata": {},
   "outputs": [],
   "source": [
    "drug1_p = set(drug1['patid'].values)\n",
    "drug2_p = set(drug2['patid'].values)\n",
    "drug3_p = set(drug3['patid'].values)\n",
    "drug4_p = set(drug4['patid'].values)\n",
    "drug5_p = set(drug5['patid'].values)\n",
    "drug6_p = set(drug6['patid'].values)\n",
    "drug7_p = set(drug7['patid'].values)\n",
    "drug9_p = set(drug9['patid'].values)\n",
    "drug10_p = set(drug10['patid'].values)\n",
    "d2_p = set(d2['patid'].values)\n",
    "d3_p = set(d3['patid'].values)\n",
    "d4_p = set(d4['patid'].values)\n",
    "d5_p = set(d5['patid'].values)\n",
    "d6_p = set(d6['patid'].values)\n",
    "d7_p = set(d7['patid'].values)\n",
    "d8_p = set(d8['patid'].values)"
   ]
  },
  {
   "cell_type": "code",
   "execution_count": 14,
   "metadata": {},
   "outputs": [],
   "source": [
    "meta_p = pd.concat([drug1,drug2,drug3,drug4,drug5,drug6,drug7,drug8,drug9,drug10,d1,d2,d3,d4,d5,d6,d7,d8], sort=True).drop_duplicates('patid')[['patid','GDR_CD','yrdob']]"
   ]
  },
  {
   "cell_type": "code",
   "execution_count": 15,
   "metadata": {},
   "outputs": [],
   "source": [
    "last_date = max(d1['lst_dt'])\n",
    "d1 = d1.drop_duplicates('patid', keep='first')\n",
    "d2 = d2.drop_duplicates('patid', keep='first')\n",
    "d3 = d3.drop_duplicates('patid', keep='first')\n",
    "d4 = d4.drop_duplicates('patid', keep='first')\n",
    "d5 = d5.drop_duplicates('patid', keep='first')\n",
    "d6 = d6.drop_duplicates('patid', keep='first')\n",
    "d7 = d7.drop_duplicates('patid', keep='first')\n",
    "d8 = d8.drop_duplicates('patid', keep='first')\n",
    "drug8 = drug8[drug8['VXX_dt']<=last_date-60]\n",
    "drug8_p = set(drug8['patid'].values)\n",
    "d1_p = set(d1['patid'].values)"
   ]
  },
  {
   "cell_type": "code",
   "execution_count": 16,
   "metadata": {},
   "outputs": [],
   "source": [
    "patient = set(drug8['patid'].values)|\\\n",
    "          set(drug1['patid'].values)|\\\n",
    "          set(drug2['patid'].values)|\\\n",
    "          set(drug3['patid'].values)|\\\n",
    "          set(drug4['patid'].values)|\\\n",
    "          set(drug5['patid'].values)|\\\n",
    "          set(drug6['patid'].values)|\\\n",
    "          set(drug7['patid'].values)|\\\n",
    "          set(drug9['patid'].values)|\\\n",
    "          set(drug10['patid'].values)|\\\n",
    "          set(d2['patid'].values)|\\\n",
    "          set(d3['patid'].values)|\\\n",
    "          set(d4['patid'].values)|\\\n",
    "          set(d5['patid'].values)|\\\n",
    "          set(d6['patid'].values)|\\\n",
    "          set(d7['patid'].values)|\\\n",
    "          set(d8['patid'].values)-\\\n",
    "          set(d1.loc[d1['fst_dt']<60,'patid'].values)"
   ]
  },
  {
   "cell_type": "code",
   "execution_count": 17,
   "metadata": {},
   "outputs": [
    {
     "name": "stdout",
     "output_type": "stream",
     "text": [
      "For loop old takes 451.5774872303009\n"
     ]
    }
   ],
   "source": [
    "patient_info = {'patid':[], \n",
    "       'date' : [],\n",
    "       'd1_record': [],\n",
    "       'drug8_record':[]\n",
    "      }\n",
    "\n",
    "date_min, date_max = min(drug8['VXX_dt']), max(drug8['VXX_dt'])\n",
    "\n",
    "start_time = time.time()\n",
    "\n",
    "for i in patient:\n",
    "    patient_info['patid'].append(i)\n",
    "    \n",
    "    if i in drug8_p: # if take the drug 8\n",
    "        patient_info['drug8_record'].append(1)\n",
    "        \n",
    "        if i in d1_p: # if have the disease 1\n",
    "            diagnose =  d1.loc[d1['patid']==i,'fst_dt'].values[0]\n",
    "            sub = drug8[(drug8['patid']==i) & (drug8['VXX_dt']<diagnose-14) &  (drug8['sup_dt']>diagnose-60)]\n",
    "            if len(sub) == 0: # if no record satisfies the time condition\n",
    "                patient_info['date'].append(np.random.choice(drug8[drug8['patid']==i]['VXX_dt'].values))\n",
    "                patient_info['d1_record'].append(0) # randomly pick one record\n",
    "                #patient_info['patid'].pop()\n",
    "            else: # if at least one record satisfies the time condition\n",
    "                patient_info['date'].append(min(sub['VXX_dt'].values))\n",
    "                patient_info['d1_record'].append(1) # pick the first record\n",
    "                #patient_info['drug8_record'].append(1)\n",
    "                \n",
    "        else: # if no disease 1\n",
    "            patient_info['date'].append(np.random.choice(drug8[drug8['patid']==i]['VXX_dt'].values))\n",
    "            patient_info['d1_record'].append(0) # randomly pick one record\n",
    "            #patient_info['drug8_record'].append(1)\n",
    "        \n",
    "    else: # if not take the drug 8\n",
    "        patient_info['drug8_record'].append(0)\n",
    "        \n",
    "        if i in d1_p: # if have the disease 1\n",
    "            patient_info['date'].append(d1.loc[d1['patid']==i, 'fst_dt'].values[0] - np.random.randint(14,60))\n",
    "            patient_info['d1_record'].append(1) # randomly pick a date 14-60 days before getting the disease\n",
    "            \n",
    "        else: # if no disease 1\n",
    "            patient_info['date'].append(np.random.randint(date_min, date_max))\n",
    "            patient_info['d1_record'].append(0) # randomly pick a date between first and last date of taking drug 8\n",
    "\n",
    "print(\"For loop old takes {}\".format(time.time()-start_time))\n",
    "\n",
    "patient_info = pd.DataFrame(patient_info)    "
   ]
  },
  {
   "cell_type": "code",
   "execution_count": 18,
   "metadata": {},
   "outputs": [],
   "source": [
    "patient_info_tmp = pd.merge(patient_info, drug3, on = 'patid', how = 'left')\n",
    "patient_info_tmp.loc[patient_info_tmp['VXX_dt']<patient_info_tmp['date'],'drug3']=1 #If taking drug3 before the date, set column ‘drug3’ to be 1\n",
    "patient_info_tmp.loc[patient_info_tmp['drug3']!=1,'drug3']=0\n",
    "patient_info_tmp_10 = patient_info_tmp.drop_duplicates('patid')\n",
    "patient_info_tmp_10 = patient_info_tmp_10[['patid','drug3']]\n",
    "patient_info_tmp_date = patient_info_tmp[patient_info_tmp['drug3'] == 1]\n",
    "patient_info_tmp_date.loc[:,'drug3_date'] = patient_info_tmp_date['date'] - patient_info_tmp_date['sup_dt'] \n",
    "patient_info_tmp_date.loc[patient_info_tmp_date['drug3_date']<0,'drug3_date'] = 0 #exacting all record with drug3 = 1, calculate the latest time taking drug 3\n",
    "patient_info_tmp_date = patient_info_tmp_date.drop_duplicates('patid', keep='last')\n",
    "patient_info_tmp_date = patient_info_tmp_date[['patid','drug3_date']]\n",
    "patient_info = pd.merge(patient_info, patient_info_tmp_10, on='patid', how ='left')\n",
    "patient_info = pd.merge(patient_info, patient_info_tmp_date, on = 'patid', how = 'left') #merge\n",
    "\n",
    "patient_info_tmp = pd.merge(patient_info, drug10, on = 'patid', how = 'left')\n",
    "patient_info_tmp.loc[patient_info_tmp['VXX_dt']<patient_info_tmp['date'],'drug10']=1\n",
    "patient_info_tmp.loc[patient_info_tmp['drug10']!=1,'drug10']=0\n",
    "patient_info_tmp_10 = patient_info_tmp.drop_duplicates('patid')\n",
    "patient_info_tmp_10 = patient_info_tmp_10[['patid','drug10']]\n",
    "patient_info_tmp_date = patient_info_tmp[patient_info_tmp['drug10'] == 1]\n",
    "patient_info_tmp_date.loc[:,'drug10_date'] = patient_info_tmp_date['date'] - patient_info_tmp_date['sup_dt'] \n",
    "patient_info_tmp_date.loc[patient_info_tmp_date['drug10_date']<0,'drug10_date'] = 0\n",
    "patient_info_tmp_date = patient_info_tmp_date.drop_duplicates('patid', keep='last')\n",
    "patient_info_tmp_date = patient_info_tmp_date[['patid','drug10_date']]\n",
    "patient_info = pd.merge(patient_info, patient_info_tmp_10, on='patid', how ='left')\n",
    "patient_info = pd.merge(patient_info, patient_info_tmp_date, on = 'patid', how = 'left')\n",
    "\n",
    "patient_info_tmp = pd.merge(patient_info, drug8, on = 'patid', how = 'left')\n",
    "patient_info_tmp.loc[patient_info_tmp['VXX_dt']<patient_info_tmp['date'],'drug8']=1\n",
    "patient_info_tmp.loc[patient_info_tmp['drug8']!=1,'drug8']=0\n",
    "patient_info_tmp_10 = patient_info_tmp.drop_duplicates('patid')\n",
    "patient_info_tmp_10 = patient_info_tmp_10[['patid','drug8']]\n",
    "patient_info_tmp_date = patient_info_tmp[patient_info_tmp['drug8'] == 1]\n",
    "patient_info_tmp_date.loc[:,'drug8_date'] = patient_info_tmp_date['date'] - patient_info_tmp_date['sup_dt'] \n",
    "patient_info_tmp_date.loc[patient_info_tmp_date['drug8_date']<0,'drug8_date'] = 0\n",
    "patient_info_tmp_date = patient_info_tmp_date.drop_duplicates('patid', keep='last')\n",
    "patient_info_tmp_date = patient_info_tmp_date[['patid','drug8_date']]\n",
    "patient_info = pd.merge(patient_info, patient_info_tmp_10, on='patid', how ='left')\n",
    "patient_info = pd.merge(patient_info, patient_info_tmp_date, on = 'patid', how = 'left')\n",
    "\n",
    "patient_info_tmp = pd.merge(patient_info, drug1, on = 'patid', how = 'left')\n",
    "patient_info_tmp.loc[patient_info_tmp['VXX_dt']<patient_info_tmp['date'],'drug1']=1\n",
    "patient_info_tmp.loc[patient_info_tmp['drug1']!=1,'drug1']=0\n",
    "patient_info_tmp_10 = patient_info_tmp.drop_duplicates('patid')\n",
    "patient_info_tmp_10 = patient_info_tmp_10[['patid','drug1']]\n",
    "patient_info_tmp_date = patient_info_tmp[patient_info_tmp['drug1'] == 1]\n",
    "patient_info_tmp_date.loc[:,'drug1_date'] = patient_info_tmp_date['date'] - patient_info_tmp_date['sup_dt'] \n",
    "patient_info_tmp_date.loc[patient_info_tmp_date['drug1_date']<0,'drug1_date'] = 0\n",
    "patient_info_tmp_date = patient_info_tmp_date.drop_duplicates('patid', keep='last')\n",
    "patient_info_tmp_date = patient_info_tmp_date[['patid','drug1_date']]\n",
    "patient_info = pd.merge(patient_info, patient_info_tmp_10, on='patid', how ='left')\n",
    "patient_info = pd.merge(patient_info, patient_info_tmp_date, on = 'patid', how = 'left')\n",
    "\n",
    "patient_info_tmp = pd.merge(patient_info, drug2, on = 'patid', how = 'left')\n",
    "patient_info_tmp.loc[patient_info_tmp['VXX_dt']<patient_info_tmp['date'],'drug2']=1\n",
    "patient_info_tmp.loc[patient_info_tmp['drug2']!=1,'drug2']=0\n",
    "patient_info_tmp_10 = patient_info_tmp.drop_duplicates('patid')\n",
    "patient_info_tmp_10 = patient_info_tmp_10[['patid','drug2']]\n",
    "patient_info_tmp_date = patient_info_tmp[patient_info_tmp['drug2'] == 1]\n",
    "patient_info_tmp_date.loc[:,'drug2_date'] = patient_info_tmp_date['date'] - patient_info_tmp_date['sup_dt'] \n",
    "patient_info_tmp_date.loc[patient_info_tmp_date['drug2_date']<0,'drug2_date'] = 0\n",
    "patient_info_tmp_date = patient_info_tmp_date.drop_duplicates('patid', keep='last')\n",
    "patient_info_tmp_date = patient_info_tmp_date[['patid','drug2_date']]\n",
    "patient_info = pd.merge(patient_info, patient_info_tmp_10, on='patid', how ='left')\n",
    "patient_info = pd.merge(patient_info, patient_info_tmp_date, on = 'patid', how = 'left')\n",
    "\n",
    "patient_info_tmp = pd.merge(patient_info, drug4, on = 'patid', how = 'left')\n",
    "patient_info_tmp.loc[patient_info_tmp['VXX_dt']<patient_info_tmp['date'],'drug4']=1\n",
    "patient_info_tmp.loc[patient_info_tmp['drug4']!=1,'drug4']=0\n",
    "patient_info_tmp_10 = patient_info_tmp.drop_duplicates('patid')\n",
    "patient_info_tmp_10 = patient_info_tmp_10[['patid','drug4']]\n",
    "patient_info_tmp_date = patient_info_tmp[patient_info_tmp['drug4'] == 1]\n",
    "patient_info_tmp_date.loc[:,'drug4_date'] = patient_info_tmp_date['date'] - patient_info_tmp_date['sup_dt'] \n",
    "patient_info_tmp_date.loc[patient_info_tmp_date['drug4_date']<0,'drug4_date'] = 0\n",
    "patient_info_tmp_date = patient_info_tmp_date.drop_duplicates('patid', keep='last')\n",
    "patient_info_tmp_date = patient_info_tmp_date[['patid','drug4_date']]\n",
    "patient_info = pd.merge(patient_info, patient_info_tmp_10, on='patid', how ='left')\n",
    "patient_info = pd.merge(patient_info, patient_info_tmp_date, on = 'patid', how = 'left')\n",
    "\n",
    "patient_info_tmp = pd.merge(patient_info, drug5, on = 'patid', how = 'left')\n",
    "patient_info_tmp.loc[patient_info_tmp['VXX_dt']<patient_info_tmp['date'],'drug5']=1\n",
    "patient_info_tmp.loc[patient_info_tmp['drug5']!=1,'drug5']=0\n",
    "patient_info_tmp_10 = patient_info_tmp.drop_duplicates('patid')\n",
    "patient_info_tmp_10 = patient_info_tmp_10[['patid','drug5']]\n",
    "patient_info_tmp_date = patient_info_tmp[patient_info_tmp['drug5'] == 1]\n",
    "patient_info_tmp_date.loc[:,'drug5_date'] = patient_info_tmp_date['date'] - patient_info_tmp_date['sup_dt'] \n",
    "patient_info_tmp_date.loc[patient_info_tmp_date['drug5_date']<0,'drug5_date'] = 0\n",
    "patient_info_tmp_date = patient_info_tmp_date.drop_duplicates('patid', keep='last')\n",
    "patient_info_tmp_date = patient_info_tmp_date[['patid','drug5_date']]\n",
    "patient_info = pd.merge(patient_info, patient_info_tmp_10, on='patid', how ='left')\n",
    "patient_info = pd.merge(patient_info, patient_info_tmp_date, on = 'patid', how = 'left')\n",
    "\n",
    "patient_info_tmp = pd.merge(patient_info, drug6, on = 'patid', how = 'left')\n",
    "patient_info_tmp.loc[patient_info_tmp['VXX_dt']<patient_info_tmp['date'],'drug6']=1\n",
    "patient_info_tmp.loc[patient_info_tmp['drug6']!=1,'drug6']=0\n",
    "patient_info_tmp_10 = patient_info_tmp.drop_duplicates('patid')\n",
    "patient_info_tmp_10 = patient_info_tmp_10[['patid','drug6']]\n",
    "patient_info_tmp_date = patient_info_tmp[patient_info_tmp['drug6'] == 1]\n",
    "patient_info_tmp_date.loc[:,'drug6_date'] = patient_info_tmp_date['date'] - patient_info_tmp_date['sup_dt'] \n",
    "patient_info_tmp_date.loc[patient_info_tmp_date['drug6_date']<0,'drug6_date'] = 0\n",
    "patient_info_tmp_date = patient_info_tmp_date.drop_duplicates('patid', keep='last')\n",
    "patient_info_tmp_date = patient_info_tmp_date[['patid','drug6_date']]\n",
    "patient_info = pd.merge(patient_info, patient_info_tmp_10, on='patid', how ='left')\n",
    "patient_info = pd.merge(patient_info, patient_info_tmp_date, on = 'patid', how = 'left')\n",
    "\n",
    "patient_info_tmp = pd.merge(patient_info, drug7, on = 'patid', how = 'left')\n",
    "patient_info_tmp.loc[patient_info_tmp['VXX_dt']<patient_info_tmp['date'],'drug7']=1\n",
    "patient_info_tmp.loc[patient_info_tmp['drug7']!=1,'drug7']=0\n",
    "patient_info_tmp_10 = patient_info_tmp.drop_duplicates('patid')\n",
    "patient_info_tmp_10 = patient_info_tmp_10[['patid','drug7']]\n",
    "patient_info_tmp_date = patient_info_tmp[patient_info_tmp['drug7'] == 1]\n",
    "patient_info_tmp_date.loc[:,'drug7_date'] = patient_info_tmp_date['date'] - patient_info_tmp_date['sup_dt'] \n",
    "patient_info_tmp_date.loc[patient_info_tmp_date['drug7_date']<0,'drug7_date'] = 0\n",
    "patient_info_tmp_date = patient_info_tmp_date.drop_duplicates('patid', keep='last')\n",
    "patient_info_tmp_date = patient_info_tmp_date[['patid','drug7_date']]\n",
    "patient_info = pd.merge(patient_info, patient_info_tmp_10, on='patid', how ='left')\n",
    "patient_info = pd.merge(patient_info, patient_info_tmp_date, on = 'patid', how = 'left')\n",
    "\n",
    "patient_info_tmp = pd.merge(patient_info, drug9, on = 'patid', how = 'left')\n",
    "patient_info_tmp.loc[patient_info_tmp['VXX_dt']<patient_info_tmp['date'],'drug9']=1\n",
    "patient_info_tmp.loc[patient_info_tmp['drug9']!=1,'drug9']=0\n",
    "patient_info_tmp_10 = patient_info_tmp.drop_duplicates('patid')\n",
    "patient_info_tmp_10 = patient_info_tmp_10[['patid','drug9']]\n",
    "patient_info_tmp_date = patient_info_tmp[patient_info_tmp['drug9'] == 1]\n",
    "patient_info_tmp_date.loc[:,'drug9_date'] = patient_info_tmp_date['date'] - patient_info_tmp_date['sup_dt'] \n",
    "patient_info_tmp_date.loc[patient_info_tmp_date['drug9_date']<0,'drug9_date'] = 0\n",
    "patient_info_tmp_date = patient_info_tmp_date.drop_duplicates('patid', keep='last')\n",
    "patient_info_tmp_date = patient_info_tmp_date[['patid','drug9_date']]\n",
    "patient_info = pd.merge(patient_info, patient_info_tmp_10, on='patid', how ='left')\n",
    "patient_info = pd.merge(patient_info, patient_info_tmp_date, on = 'patid', how = 'left')\n",
    "\n",
    "patient_info_tmp = pd.merge(patient_info, d3, on = 'patid', how = 'left')\n",
    "patient_info_tmp.loc[patient_info_tmp['fst_dt']<patient_info_tmp['date'],'d3']=1\n",
    "patient_info_tmp.loc[patient_info_tmp['d3']!=1,'d3']=0\n",
    "patient_info_tmp_10 = patient_info_tmp.drop_duplicates('patid')\n",
    "patient_info_tmp_10 = patient_info_tmp_10[['patid','d3']]\n",
    "patient_info_tmp_date = patient_info_tmp[patient_info_tmp['d3'] == 1]\n",
    "patient_info_tmp_date.loc[:,'d3_date'] = patient_info_tmp_date['date'] - patient_info_tmp_date['fst_dt']\n",
    "patient_info_tmp_date = patient_info_tmp_date.drop_duplicates('patid', keep='last')\n",
    "patient_info_tmp_date = patient_info_tmp_date[['patid','d3_date']]\n",
    "patient_info = pd.merge(patient_info, patient_info_tmp_10, on='patid', how ='left')\n",
    "patient_info = pd.merge(patient_info, patient_info_tmp_date, on = 'patid', how = 'left')\n",
    "\n",
    "patient_info_tmp = pd.merge(patient_info, d4, on = 'patid', how = 'left')\n",
    "patient_info_tmp.loc[patient_info_tmp['fst_dt']<patient_info_tmp['date'],'d4']=1\n",
    "patient_info_tmp.loc[patient_info_tmp['d4']!=1,'d4']=0\n",
    "patient_info_tmp_10 = patient_info_tmp.drop_duplicates('patid')\n",
    "patient_info_tmp_10 = patient_info_tmp_10[['patid','d4']]\n",
    "patient_info_tmp_date = patient_info_tmp[patient_info_tmp['d4'] == 1]\n",
    "patient_info_tmp_date.loc[:,'d4_date'] = patient_info_tmp_date['date'] - patient_info_tmp_date['fst_dt']\n",
    "patient_info_tmp_date = patient_info_tmp_date.drop_duplicates('patid', keep='last')\n",
    "patient_info_tmp_date = patient_info_tmp_date[['patid','d4_date']]\n",
    "patient_info = pd.merge(patient_info, patient_info_tmp_10, on='patid', how ='left')\n",
    "patient_info = pd.merge(patient_info, patient_info_tmp_date, on = 'patid', how = 'left')\n",
    "\n",
    "patient_info_tmp = pd.merge(patient_info, d6, on = 'patid', how = 'left')\n",
    "patient_info_tmp.loc[patient_info_tmp['fst_dt']<patient_info_tmp['date'],'d6']=1\n",
    "patient_info_tmp.loc[patient_info_tmp['d6']!=1,'d6']=0\n",
    "patient_info_tmp_10 = patient_info_tmp.drop_duplicates('patid')\n",
    "patient_info_tmp_10 = patient_info_tmp_10[['patid','d6']]\n",
    "patient_info_tmp_date = patient_info_tmp[patient_info_tmp['d6'] == 1]\n",
    "patient_info_tmp_date.loc[:,'d6_date'] = patient_info_tmp_date['date'] - patient_info_tmp_date['fst_dt']\n",
    "patient_info_tmp_date = patient_info_tmp_date.drop_duplicates('patid', keep='last')\n",
    "patient_info_tmp_date = patient_info_tmp_date[['patid','d6_date']]\n",
    "patient_info = pd.merge(patient_info, patient_info_tmp_10, on='patid', how ='left')\n",
    "patient_info = pd.merge(patient_info, patient_info_tmp_date, on = 'patid', how = 'left')\n",
    "\n",
    "patient_info_tmp = pd.merge(patient_info, d7, on = 'patid', how = 'left')\n",
    "patient_info_tmp.loc[patient_info_tmp['fst_dt']<patient_info_tmp['date'],'d7']=1\n",
    "patient_info_tmp.loc[patient_info_tmp['d7']!=1,'d7']=0\n",
    "patient_info_tmp_10 = patient_info_tmp.drop_duplicates('patid')\n",
    "patient_info_tmp_10 = patient_info_tmp_10[['patid','d7']]\n",
    "patient_info_tmp_date = patient_info_tmp[patient_info_tmp['d7'] == 1]\n",
    "patient_info_tmp_date.loc[:,'d7_date'] = patient_info_tmp_date['date'] - patient_info_tmp_date['fst_dt']\n",
    "patient_info_tmp_date = patient_info_tmp_date.drop_duplicates('patid', keep='last')\n",
    "patient_info_tmp_date = patient_info_tmp_date[['patid','d7_date']]\n",
    "patient_info = pd.merge(patient_info, patient_info_tmp_10, on='patid', how ='left')\n",
    "patient_info = pd.merge(patient_info, patient_info_tmp_date, on = 'patid', how = 'left')\n",
    "\n",
    "patient_info_tmp = pd.merge(patient_info, d8, on = 'patid', how = 'left')\n",
    "patient_info_tmp.loc[patient_info_tmp['fst_dt']<patient_info_tmp['date'],'d8']=1\n",
    "patient_info_tmp.loc[patient_info_tmp['d8']!=1,'d8']=0\n",
    "patient_info_tmp_10 = patient_info_tmp.drop_duplicates('patid')\n",
    "patient_info_tmp_10 = patient_info_tmp_10[['patid','d8']]\n",
    "patient_info_tmp_date = patient_info_tmp[patient_info_tmp['d8'] == 1]\n",
    "patient_info_tmp_date.loc[:,'d8_date'] = patient_info_tmp_date['date'] - patient_info_tmp_date['fst_dt']\n",
    "patient_info_tmp_date = patient_info_tmp_date.drop_duplicates('patid', keep='last')\n",
    "patient_info_tmp_date = patient_info_tmp_date[['patid','d8_date']]\n",
    "patient_info = pd.merge(patient_info, patient_info_tmp_10, on='patid', how ='left')\n",
    "patient_info = pd.merge(patient_info, patient_info_tmp_date, on = 'patid', how = 'left')\n",
    "\n",
    "patient_info_tmp = pd.merge(patient_info, d2, on = 'patid', how = 'left')\n",
    "patient_info_tmp.loc[patient_info_tmp['fst_dt']<patient_info_tmp['date'],'d2']=1\n",
    "patient_info_tmp.loc[patient_info_tmp['d2']!=1,'d2']=0\n",
    "patient_info_tmp_10 = patient_info_tmp.drop_duplicates('patid')\n",
    "patient_info_tmp_10 = patient_info_tmp_10[['patid','d2']]\n",
    "patient_info_tmp_date = patient_info_tmp[patient_info_tmp['d2'] == 1]\n",
    "patient_info_tmp_date.loc[:,'d2_date'] = patient_info_tmp_date['date'] - patient_info_tmp_date['fst_dt']\n",
    "patient_info_tmp_date = patient_info_tmp_date.drop_duplicates('patid', keep='last')\n",
    "patient_info_tmp_date = patient_info_tmp_date[['patid','d2_date']]\n",
    "patient_info = pd.merge(patient_info, patient_info_tmp_10, on='patid', how ='left')\n",
    "patient_info = pd.merge(patient_info, patient_info_tmp_date, on = 'patid', how = 'left')\n",
    "\n",
    "patient_info_tmp = pd.merge(patient_info, d5, on = 'patid', how = 'left')\n",
    "patient_info_tmp.loc[patient_info_tmp['fst_dt']<patient_info_tmp['date'],'d5']=1\n",
    "patient_info_tmp.loc[patient_info_tmp['d5']!=1,'d5']=0\n",
    "patient_info_tmp_10 = patient_info_tmp.drop_duplicates('patid')\n",
    "patient_info_tmp_10 = patient_info_tmp_10[['patid','d5']]\n",
    "patient_info_tmp_date = patient_info_tmp[patient_info_tmp['d5'] == 1]\n",
    "patient_info_tmp_date.loc[:,'d5_date'] = patient_info_tmp_date['date'] - patient_info_tmp_date['fst_dt']\n",
    "patient_info_tmp_date = patient_info_tmp_date.drop_duplicates('patid', keep='last')\n",
    "patient_info_tmp_date = patient_info_tmp_date[['patid','d5_date']]\n",
    "patient_info = pd.merge(patient_info, patient_info_tmp_10, on='patid', how ='left')\n",
    "patient_info = pd.merge(patient_info, patient_info_tmp_date, on = 'patid', how = 'left')\n",
    "\n",
    "patient_info = pd.merge(patient_info, meta_p, on='patid', how='left')\n",
    "patient_info.to_csv('/Users/likehang/Desktop/data/patient_info.csv')"
   ]
  },
  {
   "cell_type": "code",
   "execution_count": 9,
   "metadata": {},
   "outputs": [],
   "source": [
    "patient_info_8 = patient_info[patient_info['drug8_record']==1]\n",
    "patient_info_no_8 = patient_info[patient_info['drug8_record']==0]"
   ]
  },
  {
   "cell_type": "code",
   "execution_count": 10,
   "metadata": {},
   "outputs": [
    {
     "data": {
      "text/plain": [
       "(127, 233410, 36626, 9604445)"
      ]
     },
     "execution_count": 10,
     "metadata": {},
     "output_type": "execute_result"
    }
   ],
   "source": [
    "len(patient_info_8[patient_info_8['d1_record']==1]), len(patient_info_8[patient_info_8['d1_record']==0]), len(patient_info_no_8[patient_info_no_8['d1_record']==1]), len(patient_info_no_8[patient_info_no_8['d1_record']==0])"
   ]
  },
  {
   "cell_type": "code",
   "execution_count": 11,
   "metadata": {},
   "outputs": [
    {
     "data": {
      "text/plain": [
       "(650.6730860039967,\n",
       " 1.5948812180801366e-143,\n",
       " 1,\n",
       " array([[8.69217832e+02, 2.32667782e+05],\n",
       "        [3.58837822e+04, 9.60518722e+06]]))"
      ]
     },
     "execution_count": 11,
     "metadata": {},
     "output_type": "execute_result"
    }
   ],
   "source": [
    "d = np.array([[127, 233410], [36626, 9604445]])\n",
    "chi2_contingency(d)"
   ]
  },
  {
   "cell_type": "code",
   "execution_count": 13,
   "metadata": {},
   "outputs": [
    {
     "name": "stdout",
     "output_type": "stream",
     "text": [
      "For loops take 4568.314674854279\n"
     ]
    }
   ],
   "source": [
    "patient_info_8.index = np.arange(len(patient_info_8))\n",
    "patient_info_no_8.index = np.arange(len(patient_info_no_8))\n",
    "no_index = []\n",
    "yes_index = []\n",
    "\n",
    "start_time = time.time()\n",
    "\n",
    "dic_no_8_proxy = {}\n",
    "for i in range(len(patient_info_no_8)):\n",
    "    v1 = str(patient_info_no_8.loc[i, 'drug1'])\n",
    "    v2 = str(patient_info_no_8.loc[i, 'drug2'])\n",
    "    v3 = str(patient_info_no_8.loc[i, 'drug3'])\n",
    "    v4 = str(patient_info_no_8.loc[i, 'drug4'])\n",
    "    v5 = str(patient_info_no_8.loc[i, 'drug5'])\n",
    "    v6 = str(patient_info_no_8.loc[i, 'drug6'])\n",
    "    v7 = str(patient_info_no_8.loc[i, 'drug7'])\n",
    "    v8 = str(patient_info_no_8.loc[i, 'drug8'])\n",
    "    v9 = str(patient_info_no_8.loc[i, 'drug9'])\n",
    "    v10 = str(patient_info_no_8.loc[i, 'drug10'])\n",
    "    v11 = str(patient_info_no_8.loc[i, 'd2'])\n",
    "    v12 = str(patient_info_no_8.loc[i, 'd3'])\n",
    "    v13 = str(patient_info_no_8.loc[i, 'd4'])\n",
    "    v14 = str(patient_info_no_8.loc[i, 'd5'])\n",
    "    v15 = str(patient_info_no_8.loc[i, 'd6'])\n",
    "    v16 = str(patient_info_no_8.loc[i, 'd7'])\n",
    "    v17 = str(patient_info_no_8.loc[i, 'd8'])\n",
    "    v18 = str(patient_info_no_8.loc[i, 'GDR_CD'])\n",
    "    v19 = str(patient_info_no_8.loc[i, 'yrdob'])\n",
    "    v_proxy = ''.join([v1, v2, v3, v4, v5, v6, v7,v8,v9,v10,v11,v12,v13,v14,v15,v16,v17,v18,v19]) # yrdob can be any value\n",
    "    if v_proxy not in dic_no_8_proxy:\n",
    "        dic_no_8_proxy[v_proxy] = [i]\n",
    "    else:\n",
    "        dic_no_8_proxy[v_proxy].append(i)\n",
    "        \n",
    "for i in range(len(patient_info_8)):\n",
    "    v1 = str(patient_info_8.loc[i, 'drug1'])\n",
    "    v2 = str(patient_info_8.loc[i, 'drug2'])\n",
    "    v3 = str(patient_info_8.loc[i, 'drug3'])\n",
    "    v4 = str(patient_info_8.loc[i, 'drug4'])\n",
    "    v5 = str(patient_info_8.loc[i, 'drug5'])\n",
    "    v6 = str(patient_info_8.loc[i, 'drug6'])\n",
    "    v7 = str(patient_info_8.loc[i, 'drug7'])\n",
    "    v8 = str(patient_info_8.loc[i, 'drug8'])\n",
    "    v9 = str(patient_info_8.loc[i, 'drug9'])\n",
    "    v10 = str(patient_info_8.loc[i, 'drug10'])\n",
    "    v11 = str(patient_info_8.loc[i, 'd2'])\n",
    "    v12 = str(patient_info_8.loc[i, 'd3'])\n",
    "    v13 = str(patient_info_8.loc[i, 'd4'])\n",
    "    v14 = str(patient_info_8.loc[i, 'd5'])\n",
    "    v15 = str(patient_info_8.loc[i, 'd6'])\n",
    "    v16 = str(patient_info_8.loc[i, 'd7'])\n",
    "    v17 = str(patient_info_8.loc[i, 'd8'])\n",
    "    v18 = str(patient_info_8.loc[i, 'GDR_CD'])\n",
    "    v19 = str(patient_info_8.loc[i, 'yrdob'])\n",
    "    v_proxy = ''.join([v1, v2, v3, v4, v5, v6, v7,v8,v9,v10,v11,v12,v13,v14,v15,v16,v17,v18,v19])\n",
    "    if v_proxy in dic_no_8_proxy:\n",
    "        yes_index.append(i)\n",
    "        tmp = np.random.choice(dic_no_8_proxy[v_proxy])\n",
    "        no_index.append(tmp) # do not drop (bootstrap)\n",
    "        \n",
    "print(\"For loops take {}\".format(time.time()-start_time))\n",
    "\n",
    "no_drug = patient_info_no_8.loc[no_index,:]\n",
    "yes_drug = patient_info_8.loc[yes_index,:]"
   ]
  },
  {
   "cell_type": "code",
   "execution_count": 17,
   "metadata": {},
   "outputs": [
    {
     "data": {
      "text/plain": [
       "183635"
      ]
     },
     "execution_count": 17,
     "metadata": {},
     "output_type": "execute_result"
    }
   ],
   "source": [
    "len(no_drug) # the reason that the records are more is that Shizhang deletes each record in patient_info_no_8 after matching it\n",
    "             # with a record in patient_info_8 so some of the records in patient_info_8 may not have matching record just because it\n",
    "             # appears late in the data set, while I randomly select the matching records in patient_info_no_8 for each\n",
    "             # record in patient_info_8."
   ]
  },
  {
   "cell_type": "code",
   "execution_count": 18,
   "metadata": {},
   "outputs": [
    {
     "data": {
      "text/plain": [
       "793"
      ]
     },
     "execution_count": 18,
     "metadata": {},
     "output_type": "execute_result"
    }
   ],
   "source": [
    "len(no_drug[no_drug['d1_record'] == 1])"
   ]
  },
  {
   "cell_type": "code",
   "execution_count": 19,
   "metadata": {},
   "outputs": [
    {
     "data": {
      "text/plain": [
       "182842"
      ]
     },
     "execution_count": 19,
     "metadata": {},
     "output_type": "execute_result"
    }
   ],
   "source": [
    "len(no_drug[no_drug['d1_record'] == 0])"
   ]
  },
  {
   "cell_type": "code",
   "execution_count": 20,
   "metadata": {},
   "outputs": [
    {
     "data": {
      "text/plain": [
       "67"
      ]
     },
     "execution_count": 20,
     "metadata": {},
     "output_type": "execute_result"
    }
   ],
   "source": [
    "len(yes_drug[yes_drug['d1_record'] == 1])"
   ]
  },
  {
   "cell_type": "code",
   "execution_count": 21,
   "metadata": {},
   "outputs": [
    {
     "data": {
      "text/plain": [
       "183568"
      ]
     },
     "execution_count": 21,
     "metadata": {},
     "output_type": "execute_result"
    }
   ],
   "source": [
    "len(yes_drug[yes_drug['d1_record'] == 0])"
   ]
  },
  {
   "cell_type": "code",
   "execution_count": 22,
   "metadata": {},
   "outputs": [
    {
     "data": {
      "text/plain": [
       "(709.6653955629511,\n",
       " 2.365488123746888e-156,\n",
       " 1,\n",
       " array([[   411.04252897, 183223.95747103],\n",
       "        [   410.95747103, 183186.04252897]]))"
      ]
     },
     "execution_count": 22,
     "metadata": {},
     "output_type": "execute_result"
    }
   ],
   "source": [
    "# Shizhang\n",
    "d = np.array([[793, 182842], [29, 183568]])\n",
    "chi2_contingency(d)"
   ]
  },
  {
   "cell_type": "code",
   "execution_count": null,
   "metadata": {},
   "outputs": [],
   "source": []
  }
 ],
 "metadata": {
  "kernelspec": {
   "display_name": "Python 3",
   "language": "python",
   "name": "python3"
  },
  "language_info": {
   "codemirror_mode": {
    "name": "ipython",
    "version": 3
   },
   "file_extension": ".py",
   "mimetype": "text/x-python",
   "name": "python",
   "nbconvert_exporter": "python",
   "pygments_lexer": "ipython3",
   "version": "3.7.4"
  }
 },
 "nbformat": 4,
 "nbformat_minor": 2
}
