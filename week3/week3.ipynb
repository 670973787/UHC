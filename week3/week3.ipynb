{
 "cells": [
  {
   "cell_type": "code",
   "execution_count": 71,
   "metadata": {},
   "outputs": [],
   "source": [
    "import pandas as pd\n",
    "import numpy as np\n",
    "from scipy.stats import chi2_contingency\n",
    "import copy\n",
    "np.random.seed(0)"
   ]
  },
  {
   "attachments": {},
   "cell_type": "markdown",
   "metadata": {},
   "source": [
    "# Data preprocess"
   ]
  },
  {
   "cell_type": "code",
   "execution_count": 2,
   "metadata": {},
   "outputs": [],
   "source": [
    "drug8 = pd.read_csv('drug8.csv')\n",
    "drug3 = pd.read_csv('drug3.csv')\n",
    "drug10 = pd.read_csv('drug10.csv')\n",
    "d1 = pd.read_csv('disease1.csv')\n",
    "d2 = pd.read_csv('disease2.csv')\n",
    "d5 = pd.read_csv('disease5.csv')"
   ]
  },
  {
   "cell_type": "code",
   "execution_count": 3,
   "metadata": {},
   "outputs": [],
   "source": [
    "drug3_p = set(drug3['patid'].values)\n",
    "drug10_p = set(drug10['patid'].values)\n",
    "d2_p = set(d2['patid'].values)\n",
    "d5_p = set(d5['patid'].values)"
   ]
  },
  {
   "cell_type": "code",
   "execution_count": 4,
   "metadata": {},
   "outputs": [
    {
     "name": "stderr",
     "output_type": "stream",
     "text": [
      "C:\\Users\\peter\\Anaconda3\\lib\\site-packages\\ipykernel_launcher.py:1: FutureWarning: Sorting because non-concatenation axis is not aligned. A future version\n",
      "of pandas will change to not sort by default.\n",
      "\n",
      "To accept the future behavior, pass 'sort=False'.\n",
      "\n",
      "To retain the current behavior and silence the warning, pass 'sort=True'.\n",
      "\n",
      "  \"\"\"Entry point for launching an IPython kernel.\n"
     ]
    }
   ],
   "source": [
    "meta = pd.concat([drug8,drug3,drug10,d1,d2,d5]).drop_duplicates('patid')[['patid','GDR_CD','yrdob']]"
   ]
  },
  {
   "cell_type": "code",
   "execution_count": 5,
   "metadata": {},
   "outputs": [],
   "source": [
    "last_date = max(d1['lst_dt'])\n",
    "d1 = d1.drop_duplicates('patid', keep='first')\n",
    "d2 = d2.drop_duplicates('patid', keep='first')\n",
    "d5 = d5.drop_duplicates('patid', keep='first')\n",
    "drug8 = drug8[drug8['VXX_dt']<=last_date-60]\n",
    "drug8_p = set(drug8['patid'].values)\n",
    "d1_p = set(d1['patid'].values)"
   ]
  },
  {
   "attachments": {},
   "cell_type": "markdown",
   "metadata": {},
   "source": [
    "# Generate new records"
   ]
  },
  {
   "cell_type": "code",
   "execution_count": 6,
   "metadata": {},
   "outputs": [],
   "source": [
    "patient = set(drug8['patid'].values)|\\\n",
    "          set(drug3['patid'].values)|\\\n",
    "          set(drug10['patid'].values)|\\\n",
    "          set(d2['patid'].values)|\\\n",
    "          set(d5['patid'].values)-\\\n",
    "          set(d1.loc[d1['fst_dt']<60,'patid'].values)"
   ]
  },
  {
   "cell_type": "code",
   "execution_count": 7,
   "metadata": {},
   "outputs": [],
   "source": [
    "red = {'patid':[], \n",
    "       'date' : [],\n",
    "       'd1_record': [],\n",
    "       'drug8_record':[]\n",
    "      }\n",
    "for i in patient:\n",
    "    red['patid'].append(i)\n",
    "    if i in drug8_p: #If take the drug\n",
    "        if i in d1_p: #If have the disease 1\n",
    "            diagnose =  d1.loc[d1['patid']==i,'fst_dt'].values[0]\n",
    "            sub = drug8[(drug8['patid']==i) & (drug8['VXX_dt']<diagnose-14) &  (drug8['sup_dt']>diagnose-60)]\n",
    "            if len(sub) == 0: #if no record satisfies the time condition\n",
    "                red['date'].append(np.random.choice(drug8[drug8['patid']==i]['VXX_dt'].values))\n",
    "                red['d1_record'].append(0) #randomly pick one record\n",
    "            else: #if at least one record satisfies the time condition\n",
    "                red['date'].append(np.random.choice(sub['VXX_dt'].values))\n",
    "                red['d1_record'].append(1) #randomly pick one record satisfying the time condition\n",
    "        else: #If no disease 1\n",
    "            red['date'].append(np.random.choice(drug8[drug8['patid']==i]['VXX_dt'].values))\n",
    "            red['d1_record'].append(0) # randomly pick one record\n",
    "        red['drug8_record'].append(1) \n",
    "        \n",
    "    else: #If not take the drug\n",
    "        if i in d1_p: #If have the disease 1\n",
    "            red['date'].append(d1.loc[d1['patid']==i, 'fst_dt'].values[0] - np.random.randint(14,60))\n",
    "            red['d1_record'].append(1) #randomly pick a date 14-60 days between getting the disease\n",
    "        else: #If no disease 1\n",
    "            red['date'].append(np.random.randint(500,2000))\n",
    "            red['d1_record'].append(0) #randomly pick a date between 500 and 2000\n",
    "        red['drug8_record'].append(0)\n",
    "red = pd.DataFrame(red)    "
   ]
  },
  {
   "cell_type": "code",
   "execution_count": 9,
   "metadata": {},
   "outputs": [
    {
     "name": "stderr",
     "output_type": "stream",
     "text": [
      "C:\\Users\\peter\\Anaconda3\\lib\\site-packages\\pandas\\core\\indexing.py:362: SettingWithCopyWarning: \n",
      "A value is trying to be set on a copy of a slice from a DataFrame.\n",
      "Try using .loc[row_indexer,col_indexer] = value instead\n",
      "\n",
      "See the caveats in the documentation: http://pandas.pydata.org/pandas-docs/stable/indexing.html#indexing-view-versus-copy\n",
      "  self.obj[key] = _infer_fill_value(value)\n",
      "C:\\Users\\peter\\Anaconda3\\lib\\site-packages\\pandas\\core\\indexing.py:543: SettingWithCopyWarning: \n",
      "A value is trying to be set on a copy of a slice from a DataFrame.\n",
      "Try using .loc[row_indexer,col_indexer] = value instead\n",
      "\n",
      "See the caveats in the documentation: http://pandas.pydata.org/pandas-docs/stable/indexing.html#indexing-view-versus-copy\n",
      "  self.obj[item] = s\n"
     ]
    }
   ],
   "source": [
    "red_tmp = pd.merge(red, drug3, on = 'patid', how = 'left')\n",
    "red_tmp.loc[red_tmp['VXX_dt']<red_tmp['date'],'drug3']=1 #If taking drug3 before the date, set column ‘drug3’ to be 1\n",
    "red_tmp.loc[red_tmp['drug3']!=1,'drug3']=0\n",
    "red_tmp_10 = red_tmp.drop_duplicates('patid')\n",
    "red_tmp_10=red_tmp_10[['patid','drug3']]\n",
    "red_tmp_date = red_tmp[red_tmp['drug3'] == 1]\n",
    "red_tmp_date.loc[:,'drug3_date'] = red_tmp_date['date'] - red_tmp_date['sup_dt'] \n",
    "red_tmp_date.loc[red_tmp_date['drug3_date']<0,'drug3_date'] = 0 #exacting all record with drug3 = 1, calculate the latest time taking drug 3\n",
    "red_tmp_date = red_tmp_date.drop_duplicates('patid', keep='last')\n",
    "red_tmp_date = red_tmp_date[['patid','drug3_date']]\n",
    "red = pd.merge(red, red_tmp_10, on='patid', how ='left')\n",
    "red = pd.merge(red, red_tmp_date, on = 'patid', how = 'left') #merge\n",
    "\n",
    "red_tmp = pd.merge(red, drug10, on = 'patid', how = 'left')\n",
    "red_tmp.loc[red_tmp['VXX_dt']<red_tmp['date'],'drug10']=1\n",
    "red_tmp.loc[red_tmp['drug10']!=1,'drug10']=0\n",
    "red_tmp_10 = red_tmp.drop_duplicates('patid')\n",
    "red_tmp_10=red_tmp_10[['patid','drug10']]\n",
    "red_tmp_date = red_tmp[red_tmp['drug10'] == 1]\n",
    "red_tmp_date.loc[:,'drug10_date'] = red_tmp_date['date'] - red_tmp_date['sup_dt'] \n",
    "red_tmp_date.loc[red_tmp_date['drug10_date']<0,'drug10_date'] = 0\n",
    "red_tmp_date = red_tmp_date.drop_duplicates('patid', keep='last')\n",
    "red_tmp_date = red_tmp_date[['patid','drug10_date']]\n",
    "red = pd.merge(red, red_tmp_10, on='patid', how ='left')\n",
    "red = pd.merge(red, red_tmp_date, on = 'patid', how = 'left')\n",
    "\n",
    "red_tmp = pd.merge(red, drug8, on = 'patid', how = 'left')\n",
    "red_tmp.loc[red_tmp['VXX_dt']<red_tmp['date'],'drug8']=1\n",
    "red_tmp.loc[red_tmp['drug8']!=1,'drug8']=0\n",
    "red_tmp_10 = red_tmp.drop_duplicates('patid')\n",
    "red_tmp_10=red_tmp_10[['patid','drug8']]\n",
    "red_tmp_date = red_tmp[red_tmp['drug8'] == 1]\n",
    "red_tmp_date.loc[:,'drug8_date'] = red_tmp_date['date'] - red_tmp_date['sup_dt'] \n",
    "red_tmp_date.loc[red_tmp_date['drug8_date']<0,'drug8_date'] = 0\n",
    "red_tmp_date = red_tmp_date.drop_duplicates('patid', keep='last')\n",
    "red_tmp_date = red_tmp_date[['patid','drug8_date']]\n",
    "red = pd.merge(red, red_tmp_10, on='patid', how ='left')\n",
    "red = pd.merge(red, red_tmp_date, on = 'patid', how = 'left')\n",
    "\n",
    "red_tmp = pd.merge(red, d2, on = 'patid', how = 'left')\n",
    "red_tmp.loc[red_tmp['fst_dt']<red_tmp['date'],'d2']=1\n",
    "red_tmp.loc[red_tmp['d2']!=1,'d2']=0\n",
    "red_tmp_10 = red_tmp.drop_duplicates('patid')\n",
    "red_tmp_10=red_tmp_10[['patid','d2']]\n",
    "red_tmp_date = red_tmp[red_tmp['d2'] == 1]\n",
    "red_tmp_date.loc[:,'d2_date'] = red_tmp_date['date'] - red_tmp_date['fst_dt']\n",
    "red_tmp_date = red_tmp_date.drop_duplicates('patid', keep='last')\n",
    "red_tmp_date = red_tmp_date[['patid','d2_date']]\n",
    "red = pd.merge(red, red_tmp_10, on='patid', how ='left')\n",
    "red = pd.merge(red, red_tmp_date, on = 'patid', how = 'left')\n",
    "\n",
    "red_tmp = pd.merge(red, d5, on = 'patid', how = 'left')\n",
    "red_tmp.loc[red_tmp['fst_dt']<red_tmp['date'],'d5']=1\n",
    "red_tmp.loc[red_tmp['d5']!=1,'d5']=0\n",
    "red_tmp_10 = red_tmp.drop_duplicates('patid')\n",
    "red_tmp_10=red_tmp_10[['patid','d5']]\n",
    "red_tmp_date = red_tmp[red_tmp['d5'] == 1]\n",
    "red_tmp_date.loc[:,'d5_date'] = red_tmp_date['date'] - red_tmp_date['fst_dt']\n",
    "red_tmp_date = red_tmp_date.drop_duplicates('patid', keep='last')\n",
    "red_tmp_date = red_tmp_date[['patid','d5_date']]\n",
    "red = pd.merge(red, red_tmp_10, on='patid', how ='left')\n",
    "red = pd.merge(red, red_tmp_date, on = 'patid', how = 'left')\n",
    "\n",
    "red = pd.merge(red,meta, on='patid', how='left')"
   ]
  },
  {
   "cell_type": "code",
   "execution_count": 65,
   "metadata": {},
   "outputs": [],
   "source": [
    "red_8 = red[red['drug8_record']==1]\n",
    "red_no_8 = red[red['drug8_record']==0]"
   ]
  },
  {
   "cell_type": "code",
   "execution_count": 57,
   "metadata": {},
   "outputs": [
    {
     "data": {
      "text/plain": [
       "(127, 233410, 867, 204555)"
      ]
     },
     "execution_count": 57,
     "metadata": {},
     "output_type": "execute_result"
    }
   ],
   "source": [
    "len(red_8[red_8['d1_record']==1]), len(red_8[red_8['d1_record']==0]), len(red_no_8[red_no_8['d1_record']==1]), len(red_no_8[red_no_8['d1_record']==0])"
   ]
  },
  {
   "cell_type": "code",
   "execution_count": 14,
   "metadata": {},
   "outputs": [
    {
     "data": {
      "text/plain": [
       "(652.3070287225964,\n",
       " 7.036865370774887e-144,\n",
       " 1,\n",
       " array([[   528.83248322, 233008.16751678],\n",
       "        [   465.16751678, 204956.83248322]]))"
      ]
     },
     "execution_count": 14,
     "metadata": {},
     "output_type": "execute_result"
    }
   ],
   "source": [
    "d = np.array([[127, 233410], [867, 204555]])\n",
    "chi2_contingency(d)"
   ]
  },
  {
   "attachments": {},
   "cell_type": "markdown",
   "metadata": {},
   "source": [
    "# Matching with binary columns"
   ]
  },
  {
   "cell_type": "code",
   "execution_count": 14,
   "metadata": {},
   "outputs": [],
   "source": [
    "red_no_8_copy = copy.deepcopy(red_no_8)\n",
    "red_8.index = np.arange(len(red_8))\n",
    "no_index = []\n",
    "yes_index = []\n",
    "for i in range(len(red_8)):\n",
    "    v1 = red_8.loc[i, 'drug3']\n",
    "    v2 = red_8.loc[i, 'drug10']\n",
    "    v3 = red_8.loc[i, 'drug8']\n",
    "    v4 = red_8.loc[i, 'd2']\n",
    "    v5 = red_8.loc[i, 'd5']\n",
    "    v6 = red_8.loc[i, 'GDR_CD']\n",
    "    v7 = red_8.loc[i, 'yrdob']\n",
    "    match = red_no_8_copy[(red_no_8_copy['drug3']==v1)&\n",
    "                          (red_no_8_copy['drug10']==v2)&\n",
    "                          (red_no_8_copy['drug8']==v3)&\n",
    "                          (red_no_8_copy['d2']==v4)&\n",
    "                         (red_no_8_copy['d5']==v5)&\n",
    "                         (red_no_8_copy['GDR_CD']==v6)&\n",
    "                         (red_no_8_copy['yrdob']==v7)]\n",
    "    if(len(match)>0):\n",
    "        yes_index.append(i)\n",
    "        tmp = match.index[0]\n",
    "        no_index.append(tmp)\n",
    "        red_no_8_copy.drop(tmp,axis=0, inplace=True)\n",
    "no_drug = red_no_8.loc[no_index,:]\n",
    "yes_drug = red_8.loc[yes_index,:]"
   ]
  },
  {
   "cell_type": "code",
   "execution_count": 16,
   "metadata": {},
   "outputs": [
    {
     "data": {
      "text/plain": [
       "410"
      ]
     },
     "execution_count": 16,
     "metadata": {},
     "output_type": "execute_result"
    }
   ],
   "source": [
    "len(no_drug[no_drug['d1_record']==1])"
   ]
  },
  {
   "cell_type": "code",
   "execution_count": 17,
   "metadata": {},
   "outputs": [
    {
     "data": {
      "text/plain": [
       "94736"
      ]
     },
     "execution_count": 17,
     "metadata": {},
     "output_type": "execute_result"
    }
   ],
   "source": [
    "len(no_drug[no_drug['d1_record']==0])"
   ]
  },
  {
   "cell_type": "code",
   "execution_count": 18,
   "metadata": {},
   "outputs": [
    {
     "data": {
      "text/plain": [
       "29"
      ]
     },
     "execution_count": 18,
     "metadata": {},
     "output_type": "execute_result"
    }
   ],
   "source": [
    "len(yes_drug[yes_drug['d1_record'] == 1])"
   ]
  },
  {
   "cell_type": "code",
   "execution_count": 19,
   "metadata": {},
   "outputs": [
    {
     "data": {
      "text/plain": [
       "95117"
      ]
     },
     "execution_count": 19,
     "metadata": {},
     "output_type": "execute_result"
    }
   ],
   "source": [
    "len(yes_drug[yes_drug['d1_record'] == 0])"
   ]
  },
  {
   "cell_type": "code",
   "execution_count": 2,
   "metadata": {},
   "outputs": [
    {
     "data": {
      "text/plain": [
       "(329.68997342111004, 1.1228239172459087e-73, 1, array([[  219.5, 94926.5],\n",
       "        [  219.5, 94926.5]]))"
      ]
     },
     "execution_count": 2,
     "metadata": {},
     "output_type": "execute_result"
    }
   ],
   "source": [
    "d = np.array([[410, 94736], [29, 95117]])\n",
    "chi2_contingency(d)"
   ]
  },
  {
   "attachments": {},
   "cell_type": "markdown",
   "metadata": {},
   "source": [
    "# Matching with date columns"
   ]
  },
  {
   "cell_type": "code",
   "execution_count": 17,
   "metadata": {},
   "outputs": [],
   "source": [
    "red_no_8_copy = copy.deepcopy(red_no_8)\n",
    "red_8.index = np.arange(len(red_8))\n",
    "red_no_8_copy = copy.deepcopy(red_no_8)\n",
    "no_index = []\n",
    "yes_index = []\n",
    "for i in range(len(red_8)):\n",
    "    match = red_no_8_copy\n",
    "    v1 = red_8.loc[i, 'drug3_date']\n",
    "    v2 = red_8.loc[i, 'drug10_date']\n",
    "    v3 = red_8.loc[i, 'drug8_date']\n",
    "    v4 = red_8.loc[i, 'd2_date']\n",
    "    v5 = red_8.loc[i, 'd5_date']\n",
    "    \n",
    "    if np.isnan(v1):\n",
    "        match = match[match['drug3_date'].isna()]\n",
    "    else:\n",
    "        match = match[match['drug3_date'] == v1]\n",
    "    if np.isnan(v2):\n",
    "        match = match[match['drug10_date'].isna()]\n",
    "    else:\n",
    "        match = match[match['drug10_date'] == v2]\n",
    "    if np.isnan(v3):\n",
    "        match = match[match['drug8_date'].isna()]\n",
    "    else:\n",
    "        match = match[match['drug8_date'] == v3]\n",
    "    if np.isnan(v4):\n",
    "        match = match[match['d2_date'].isna()]\n",
    "    else:\n",
    "        match = match[match['d2_date'] == v4]\n",
    "    if np.isnan(v5):\n",
    "        match = match[match['d5_date'].isna()]\n",
    "    else:\n",
    "        match = match[match['d5_date'] == v5]\n",
    "\n",
    "    v6 = red_8.loc[i, 'GDR_CD']\n",
    "    v7 = red_8.loc[i, 'yrdob']\n",
    "    match = match[(match['GDR_CD']==v6) & (match['yrdob']==v7)]\n",
    "    if(len(match)>0):\n",
    "        yes_index.append(i)\n",
    "        tmp = match.index[0]\n",
    "        no_index.append(tmp)\n",
    "        red_no_8_copy.drop(tmp,axis=0, inplace=True)\n",
    "no_drug = red_no_8.loc[no_index,:]\n",
    "yes_drug = red_8.loc[yes_index,:]"
   ]
  },
  {
   "cell_type": "code",
   "execution_count": 19,
   "metadata": {},
   "outputs": [
    {
     "data": {
      "text/plain": [
       "399"
      ]
     },
     "execution_count": 19,
     "metadata": {},
     "output_type": "execute_result"
    }
   ],
   "source": [
    "len(no_drug[no_drug['d1_record']==1])"
   ]
  },
  {
   "cell_type": "code",
   "execution_count": 20,
   "metadata": {},
   "outputs": [
    {
     "data": {
      "text/plain": [
       "91400"
      ]
     },
     "execution_count": 20,
     "metadata": {},
     "output_type": "execute_result"
    }
   ],
   "source": [
    "len(no_drug[no_drug['d1_record']==0])"
   ]
  },
  {
   "cell_type": "code",
   "execution_count": 21,
   "metadata": {},
   "outputs": [
    {
     "data": {
      "text/plain": [
       "28"
      ]
     },
     "execution_count": 21,
     "metadata": {},
     "output_type": "execute_result"
    }
   ],
   "source": [
    "len(yes_drug[yes_drug['d1_record'] == 1])"
   ]
  },
  {
   "cell_type": "code",
   "execution_count": 22,
   "metadata": {},
   "outputs": [
    {
     "data": {
      "text/plain": [
       "91771"
      ]
     },
     "execution_count": 22,
     "metadata": {},
     "output_type": "execute_result"
    }
   ],
   "source": [
    "len(yes_drug[yes_drug['d1_record'] == 0])"
   ]
  },
  {
   "cell_type": "code",
   "execution_count": 23,
   "metadata": {},
   "outputs": [
    {
     "data": {
      "text/plain": [
       "(330.237892344217, 8.530493248095933e-74, 1, array([[  218., 91368.],\n",
       "        [  218., 91368.]]))"
      ]
     },
     "execution_count": 23,
     "metadata": {},
     "output_type": "execute_result"
    }
   ],
   "source": [
    "d = np.array([[408, 91178], [28, 91558]])\n",
    "chi2_contingency(d)"
   ]
  }
 ],
 "metadata": {
  "kernelspec": {
   "display_name": "Python 3",
   "language": "python",
   "name": "python3"
  },
  "language_info": {
   "codemirror_mode": {
    "name": "ipython",
    "version": 3
   },
   "file_extension": ".py",
   "mimetype": "text/x-python",
   "name": "python",
   "nbconvert_exporter": "python",
   "pygments_lexer": "ipython3",
   "version": "3.6.8"
  }
 },
 "nbformat": 4,
 "nbformat_minor": 2
}
