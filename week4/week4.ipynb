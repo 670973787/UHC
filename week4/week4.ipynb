{
 "cells": [
  {
   "cell_type": "code",
   "execution_count": 24,
   "metadata": {},
   "outputs": [],
   "source": [
    "import pandas as pd\n",
    "import numpy as np\n",
    "from scipy.stats import chi2_contingency\n",
    "import copy\n",
    "np.random.seed(0)"
   ]
  },
  {
   "cell_type": "markdown",
   "metadata": {},
   "source": [
    "# Data preprocess"
   ]
  },
  {
   "cell_type": "code",
   "execution_count": 25,
   "metadata": {},
   "outputs": [],
   "source": [
    "drug8 = pd.read_csv('drug8.csv')\n",
    "drug3 = pd.read_csv('drug3.csv')\n",
    "drug10 = pd.read_csv('drug10.csv')\n",
    "d1 = pd.read_csv('disease1.csv')\n",
    "d2 = pd.read_csv('disease2.csv')\n",
    "d5 = pd.read_csv('disease5.csv')"
   ]
  },
  {
   "cell_type": "code",
   "execution_count": 26,
   "metadata": {},
   "outputs": [],
   "source": [
    "drug3_p = set(drug3['patid'].values)\n",
    "drug10_p = set(drug10['patid'].values)\n",
    "d2_p = set(d2['patid'].values)\n",
    "d5_p = set(d5['patid'].values)"
   ]
  },
  {
   "cell_type": "code",
   "execution_count": 27,
   "metadata": {},
   "outputs": [
    {
     "name": "stderr",
     "output_type": "stream",
     "text": [
      "C:\\Users\\peter\\Anaconda3\\lib\\site-packages\\ipykernel_launcher.py:1: FutureWarning: Sorting because non-concatenation axis is not aligned. A future version\n",
      "of pandas will change to not sort by default.\n",
      "\n",
      "To accept the future behavior, pass 'sort=False'.\n",
      "\n",
      "To retain the current behavior and silence the warning, pass 'sort=True'.\n",
      "\n",
      "  \"\"\"Entry point for launching an IPython kernel.\n"
     ]
    }
   ],
   "source": [
    "meta = pd.concat([drug8,drug3,drug10,d1,d2,d5]).drop_duplicates('patid')[['patid','GDR_CD','yrdob']]"
   ]
  },
  {
   "cell_type": "code",
   "execution_count": 28,
   "metadata": {},
   "outputs": [],
   "source": [
    "last_date = max(d1['lst_dt'])\n",
    "d1 = d1.drop_duplicates('patid', keep='first')\n",
    "d2 = d2.drop_duplicates('patid', keep='first')\n",
    "d5 = d5.drop_duplicates('patid', keep='first')\n",
    "drug8 = drug8[drug8['VXX_dt']<=last_date-60]\n",
    "drug8_p = set(drug8['patid'].values)\n",
    "d1_p = set(d1['patid'].values)"
   ]
  },
  {
   "cell_type": "markdown",
   "metadata": {},
   "source": [
    "# Generate new records"
   ]
  },
  {
   "cell_type": "code",
   "execution_count": 29,
   "metadata": {},
   "outputs": [],
   "source": [
    "patient = set(drug8['patid'].values)|\\\n",
    "          set(drug3['patid'].values)|\\\n",
    "          set(drug10['patid'].values)|\\\n",
    "          set(d2['patid'].values)|\\\n",
    "          set(d5['patid'].values)-\\\n",
    "          set(d1.loc[d1['fst_dt']<60,'patid'].values)"
   ]
  },
  {
   "cell_type": "code",
   "execution_count": 30,
   "metadata": {},
   "outputs": [],
   "source": [
    "for i in patient:\n",
    "    if i in drug8_p:\n",
    "        continue"
   ]
  },
  {
   "cell_type": "code",
   "execution_count": 31,
   "metadata": {},
   "outputs": [],
   "source": [
    "d1.index = d1['patid']\n",
    "drug8.index = drug8['patid']"
   ]
  },
  {
   "cell_type": "code",
   "execution_count": 33,
   "metadata": {},
   "outputs": [
    {
     "ename": "KeyboardInterrupt",
     "evalue": "",
     "output_type": "error",
     "traceback": [
      "\u001b[1;31m---------------------------------------------------------------------------\u001b[0m",
      "\u001b[1;31mKeyboardInterrupt\u001b[0m                         Traceback (most recent call last)",
      "\u001b[1;32m<ipython-input-33-4f93d477a9ac>\u001b[0m in \u001b[0;36m<module>\u001b[1;34m\u001b[0m\n\u001b[0;32m     19\u001b[0m                 \u001b[0mpatient_info\u001b[0m\u001b[1;33m[\u001b[0m\u001b[1;34m'd1_record'\u001b[0m\u001b[1;33m]\u001b[0m\u001b[1;33m.\u001b[0m\u001b[0mappend\u001b[0m\u001b[1;33m(\u001b[0m\u001b[1;36m1\u001b[0m\u001b[1;33m)\u001b[0m \u001b[1;31m#randomly pick the first record satisfying the time condition\u001b[0m\u001b[1;33m\u001b[0m\u001b[1;33m\u001b[0m\u001b[0m\n\u001b[0;32m     20\u001b[0m         \u001b[1;32melse\u001b[0m\u001b[1;33m:\u001b[0m \u001b[1;31m#If no disease 1\u001b[0m\u001b[1;33m\u001b[0m\u001b[1;33m\u001b[0m\u001b[0m\n\u001b[1;32m---> 21\u001b[1;33m             \u001b[0mpatient_info\u001b[0m\u001b[1;33m[\u001b[0m\u001b[1;34m'date'\u001b[0m\u001b[1;33m]\u001b[0m\u001b[1;33m.\u001b[0m\u001b[0mappend\u001b[0m\u001b[1;33m(\u001b[0m\u001b[0mnp\u001b[0m\u001b[1;33m.\u001b[0m\u001b[0mrandom\u001b[0m\u001b[1;33m.\u001b[0m\u001b[0mchoice\u001b[0m\u001b[1;33m(\u001b[0m\u001b[0mdrug8\u001b[0m\u001b[1;33m.\u001b[0m\u001b[0mloc\u001b[0m\u001b[1;33m[\u001b[0m\u001b[1;33m[\u001b[0m\u001b[0mi\u001b[0m\u001b[1;33m]\u001b[0m\u001b[1;33m,\u001b[0m\u001b[1;34m'VXX_dt'\u001b[0m\u001b[1;33m]\u001b[0m\u001b[1;33m.\u001b[0m\u001b[0mvalues\u001b[0m\u001b[1;33m)\u001b[0m\u001b[1;33m)\u001b[0m\u001b[1;33m\u001b[0m\u001b[1;33m\u001b[0m\u001b[0m\n\u001b[0m\u001b[0;32m     22\u001b[0m             \u001b[0msample_date\u001b[0m\u001b[1;33m.\u001b[0m\u001b[0mappend\u001b[0m\u001b[1;33m(\u001b[0m\u001b[0mpatient_info\u001b[0m\u001b[1;33m[\u001b[0m\u001b[1;34m'date'\u001b[0m\u001b[1;33m]\u001b[0m\u001b[1;33m[\u001b[0m\u001b[1;33m-\u001b[0m\u001b[1;36m1\u001b[0m\u001b[1;33m]\u001b[0m\u001b[1;33m)\u001b[0m\u001b[1;33m\u001b[0m\u001b[1;33m\u001b[0m\u001b[0m\n\u001b[0;32m     23\u001b[0m             \u001b[0mpatient_info\u001b[0m\u001b[1;33m[\u001b[0m\u001b[1;34m'd1_record'\u001b[0m\u001b[1;33m]\u001b[0m\u001b[1;33m.\u001b[0m\u001b[0mappend\u001b[0m\u001b[1;33m(\u001b[0m\u001b[1;36m0\u001b[0m\u001b[1;33m)\u001b[0m \u001b[1;31m# randomly pick one record\u001b[0m\u001b[1;33m\u001b[0m\u001b[1;33m\u001b[0m\u001b[0m\n",
      "\u001b[1;32m~\\Anaconda3\\lib\\site-packages\\pandas\\core\\indexing.py\u001b[0m in \u001b[0;36m__getitem__\u001b[1;34m(self, key)\u001b[0m\n\u001b[0;32m   1492\u001b[0m             \u001b[1;32mexcept\u001b[0m \u001b[1;33m(\u001b[0m\u001b[0mKeyError\u001b[0m\u001b[1;33m,\u001b[0m \u001b[0mIndexError\u001b[0m\u001b[1;33m,\u001b[0m \u001b[0mAttributeError\u001b[0m\u001b[1;33m)\u001b[0m\u001b[1;33m:\u001b[0m\u001b[1;33m\u001b[0m\u001b[1;33m\u001b[0m\u001b[0m\n\u001b[0;32m   1493\u001b[0m                 \u001b[1;32mpass\u001b[0m\u001b[1;33m\u001b[0m\u001b[1;33m\u001b[0m\u001b[0m\n\u001b[1;32m-> 1494\u001b[1;33m             \u001b[1;32mreturn\u001b[0m \u001b[0mself\u001b[0m\u001b[1;33m.\u001b[0m\u001b[0m_getitem_tuple\u001b[0m\u001b[1;33m(\u001b[0m\u001b[0mkey\u001b[0m\u001b[1;33m)\u001b[0m\u001b[1;33m\u001b[0m\u001b[1;33m\u001b[0m\u001b[0m\n\u001b[0m\u001b[0;32m   1495\u001b[0m         \u001b[1;32melse\u001b[0m\u001b[1;33m:\u001b[0m\u001b[1;33m\u001b[0m\u001b[1;33m\u001b[0m\u001b[0m\n\u001b[0;32m   1496\u001b[0m             \u001b[1;31m# we by definition only have the 0th axis\u001b[0m\u001b[1;33m\u001b[0m\u001b[1;33m\u001b[0m\u001b[1;33m\u001b[0m\u001b[0m\n",
      "\u001b[1;32m~\\Anaconda3\\lib\\site-packages\\pandas\\core\\indexing.py\u001b[0m in \u001b[0;36m_getitem_tuple\u001b[1;34m(self, tup)\u001b[0m\n\u001b[0;32m    866\u001b[0m     \u001b[1;32mdef\u001b[0m \u001b[0m_getitem_tuple\u001b[0m\u001b[1;33m(\u001b[0m\u001b[0mself\u001b[0m\u001b[1;33m,\u001b[0m \u001b[0mtup\u001b[0m\u001b[1;33m)\u001b[0m\u001b[1;33m:\u001b[0m\u001b[1;33m\u001b[0m\u001b[1;33m\u001b[0m\u001b[0m\n\u001b[0;32m    867\u001b[0m         \u001b[1;32mtry\u001b[0m\u001b[1;33m:\u001b[0m\u001b[1;33m\u001b[0m\u001b[1;33m\u001b[0m\u001b[0m\n\u001b[1;32m--> 868\u001b[1;33m             \u001b[1;32mreturn\u001b[0m \u001b[0mself\u001b[0m\u001b[1;33m.\u001b[0m\u001b[0m_getitem_lowerdim\u001b[0m\u001b[1;33m(\u001b[0m\u001b[0mtup\u001b[0m\u001b[1;33m)\u001b[0m\u001b[1;33m\u001b[0m\u001b[1;33m\u001b[0m\u001b[0m\n\u001b[0m\u001b[0;32m    869\u001b[0m         \u001b[1;32mexcept\u001b[0m \u001b[0mIndexingError\u001b[0m\u001b[1;33m:\u001b[0m\u001b[1;33m\u001b[0m\u001b[1;33m\u001b[0m\u001b[0m\n\u001b[0;32m    870\u001b[0m             \u001b[1;32mpass\u001b[0m\u001b[1;33m\u001b[0m\u001b[1;33m\u001b[0m\u001b[0m\n",
      "\u001b[1;32m~\\Anaconda3\\lib\\site-packages\\pandas\\core\\indexing.py\u001b[0m in \u001b[0;36m_getitem_lowerdim\u001b[1;34m(self, tup)\u001b[0m\n\u001b[0;32m   1015\u001b[0m                     \u001b[1;32mreturn\u001b[0m \u001b[0msection\u001b[0m\u001b[1;33m\u001b[0m\u001b[1;33m\u001b[0m\u001b[0m\n\u001b[0;32m   1016\u001b[0m                 \u001b[1;31m# This is an elided recursive call to iloc/loc/etc'\u001b[0m\u001b[1;33m\u001b[0m\u001b[1;33m\u001b[0m\u001b[1;33m\u001b[0m\u001b[0m\n\u001b[1;32m-> 1017\u001b[1;33m                 \u001b[1;32mreturn\u001b[0m \u001b[0mgetattr\u001b[0m\u001b[1;33m(\u001b[0m\u001b[0msection\u001b[0m\u001b[1;33m,\u001b[0m \u001b[0mself\u001b[0m\u001b[1;33m.\u001b[0m\u001b[0mname\u001b[0m\u001b[1;33m)\u001b[0m\u001b[1;33m[\u001b[0m\u001b[0mnew_key\u001b[0m\u001b[1;33m]\u001b[0m\u001b[1;33m\u001b[0m\u001b[1;33m\u001b[0m\u001b[0m\n\u001b[0m\u001b[0;32m   1018\u001b[0m \u001b[1;33m\u001b[0m\u001b[0m\n\u001b[0;32m   1019\u001b[0m         \u001b[1;32mraise\u001b[0m \u001b[0mIndexingError\u001b[0m\u001b[1;33m(\u001b[0m\u001b[1;34m'not applicable'\u001b[0m\u001b[1;33m)\u001b[0m\u001b[1;33m\u001b[0m\u001b[1;33m\u001b[0m\u001b[0m\n",
      "\u001b[1;32m~\\Anaconda3\\lib\\site-packages\\pandas\\core\\indexing.py\u001b[0m in \u001b[0;36m__getitem__\u001b[1;34m(self, key)\u001b[0m\n\u001b[0;32m   1498\u001b[0m \u001b[1;33m\u001b[0m\u001b[0m\n\u001b[0;32m   1499\u001b[0m             \u001b[0mmaybe_callable\u001b[0m \u001b[1;33m=\u001b[0m \u001b[0mcom\u001b[0m\u001b[1;33m.\u001b[0m\u001b[0mapply_if_callable\u001b[0m\u001b[1;33m(\u001b[0m\u001b[0mkey\u001b[0m\u001b[1;33m,\u001b[0m \u001b[0mself\u001b[0m\u001b[1;33m.\u001b[0m\u001b[0mobj\u001b[0m\u001b[1;33m)\u001b[0m\u001b[1;33m\u001b[0m\u001b[1;33m\u001b[0m\u001b[0m\n\u001b[1;32m-> 1500\u001b[1;33m             \u001b[1;32mreturn\u001b[0m \u001b[0mself\u001b[0m\u001b[1;33m.\u001b[0m\u001b[0m_getitem_axis\u001b[0m\u001b[1;33m(\u001b[0m\u001b[0mmaybe_callable\u001b[0m\u001b[1;33m,\u001b[0m \u001b[0maxis\u001b[0m\u001b[1;33m=\u001b[0m\u001b[0maxis\u001b[0m\u001b[1;33m)\u001b[0m\u001b[1;33m\u001b[0m\u001b[1;33m\u001b[0m\u001b[0m\n\u001b[0m\u001b[0;32m   1501\u001b[0m \u001b[1;33m\u001b[0m\u001b[0m\n\u001b[0;32m   1502\u001b[0m     \u001b[1;32mdef\u001b[0m \u001b[0m_is_scalar_access\u001b[0m\u001b[1;33m(\u001b[0m\u001b[0mself\u001b[0m\u001b[1;33m,\u001b[0m \u001b[0mkey\u001b[0m\u001b[1;33m)\u001b[0m\u001b[1;33m:\u001b[0m\u001b[1;33m\u001b[0m\u001b[1;33m\u001b[0m\u001b[0m\n",
      "\u001b[1;32m~\\Anaconda3\\lib\\site-packages\\pandas\\core\\indexing.py\u001b[0m in \u001b[0;36m_getitem_axis\u001b[1;34m(self, key, axis)\u001b[0m\n\u001b[0;32m   1900\u001b[0m                     \u001b[1;32mraise\u001b[0m \u001b[0mValueError\u001b[0m\u001b[1;33m(\u001b[0m\u001b[1;34m'Cannot index with multidimensional key'\u001b[0m\u001b[1;33m)\u001b[0m\u001b[1;33m\u001b[0m\u001b[1;33m\u001b[0m\u001b[0m\n\u001b[0;32m   1901\u001b[0m \u001b[1;33m\u001b[0m\u001b[0m\n\u001b[1;32m-> 1902\u001b[1;33m                 \u001b[1;32mreturn\u001b[0m \u001b[0mself\u001b[0m\u001b[1;33m.\u001b[0m\u001b[0m_getitem_iterable\u001b[0m\u001b[1;33m(\u001b[0m\u001b[0mkey\u001b[0m\u001b[1;33m,\u001b[0m \u001b[0maxis\u001b[0m\u001b[1;33m=\u001b[0m\u001b[0maxis\u001b[0m\u001b[1;33m)\u001b[0m\u001b[1;33m\u001b[0m\u001b[1;33m\u001b[0m\u001b[0m\n\u001b[0m\u001b[0;32m   1903\u001b[0m \u001b[1;33m\u001b[0m\u001b[0m\n\u001b[0;32m   1904\u001b[0m             \u001b[1;31m# nested tuple slicing\u001b[0m\u001b[1;33m\u001b[0m\u001b[1;33m\u001b[0m\u001b[1;33m\u001b[0m\u001b[0m\n",
      "\u001b[1;32m~\\Anaconda3\\lib\\site-packages\\pandas\\core\\indexing.py\u001b[0m in \u001b[0;36m_getitem_iterable\u001b[1;34m(self, key, axis)\u001b[0m\n\u001b[0;32m   1203\u001b[0m             \u001b[1;31m# A collection of keys\u001b[0m\u001b[1;33m\u001b[0m\u001b[1;33m\u001b[0m\u001b[1;33m\u001b[0m\u001b[0m\n\u001b[0;32m   1204\u001b[0m             keyarr, indexer = self._get_listlike_indexer(key, axis,\n\u001b[1;32m-> 1205\u001b[1;33m                                                          raise_missing=False)\n\u001b[0m\u001b[0;32m   1206\u001b[0m             return self.obj._reindex_with_indexers({axis: [keyarr, indexer]},\n\u001b[0;32m   1207\u001b[0m                                                    copy=True, allow_dups=True)\n",
      "\u001b[1;32m~\\Anaconda3\\lib\\site-packages\\pandas\\core\\indexing.py\u001b[0m in \u001b[0;36m_get_listlike_indexer\u001b[1;34m(self, key, axis, raise_missing)\u001b[0m\n\u001b[0;32m   1155\u001b[0m             \u001b[0mkeyarr\u001b[0m \u001b[1;33m=\u001b[0m \u001b[0max\u001b[0m\u001b[1;33m.\u001b[0m\u001b[0mreindex\u001b[0m\u001b[1;33m(\u001b[0m\u001b[0mkeyarr\u001b[0m\u001b[1;33m)\u001b[0m\u001b[1;33m[\u001b[0m\u001b[1;36m0\u001b[0m\u001b[1;33m]\u001b[0m\u001b[1;33m\u001b[0m\u001b[1;33m\u001b[0m\u001b[0m\n\u001b[0;32m   1156\u001b[0m         \u001b[1;32melse\u001b[0m\u001b[1;33m:\u001b[0m\u001b[1;33m\u001b[0m\u001b[1;33m\u001b[0m\u001b[0m\n\u001b[1;32m-> 1157\u001b[1;33m             \u001b[0mkeyarr\u001b[0m\u001b[1;33m,\u001b[0m \u001b[0mindexer\u001b[0m\u001b[1;33m,\u001b[0m \u001b[0mnew_indexer\u001b[0m \u001b[1;33m=\u001b[0m \u001b[0max\u001b[0m\u001b[1;33m.\u001b[0m\u001b[0m_reindex_non_unique\u001b[0m\u001b[1;33m(\u001b[0m\u001b[0mkeyarr\u001b[0m\u001b[1;33m)\u001b[0m\u001b[1;33m\u001b[0m\u001b[1;33m\u001b[0m\u001b[0m\n\u001b[0m\u001b[0;32m   1158\u001b[0m \u001b[1;33m\u001b[0m\u001b[0m\n\u001b[0;32m   1159\u001b[0m         self._validate_read_indexer(keyarr, indexer,\n",
      "\u001b[1;32m~\\Anaconda3\\lib\\site-packages\\pandas\\core\\indexes\\base.py\u001b[0m in \u001b[0;36m_reindex_non_unique\u001b[1;34m(self, target)\u001b[0m\n\u001b[0;32m   3167\u001b[0m         \u001b[0mindexer\u001b[0m\u001b[1;33m,\u001b[0m \u001b[0mmissing\u001b[0m \u001b[1;33m=\u001b[0m \u001b[0mself\u001b[0m\u001b[1;33m.\u001b[0m\u001b[0mget_indexer_non_unique\u001b[0m\u001b[1;33m(\u001b[0m\u001b[0mtarget\u001b[0m\u001b[1;33m)\u001b[0m\u001b[1;33m\u001b[0m\u001b[1;33m\u001b[0m\u001b[0m\n\u001b[0;32m   3168\u001b[0m         \u001b[0mcheck\u001b[0m \u001b[1;33m=\u001b[0m \u001b[0mindexer\u001b[0m \u001b[1;33m!=\u001b[0m \u001b[1;33m-\u001b[0m\u001b[1;36m1\u001b[0m\u001b[1;33m\u001b[0m\u001b[1;33m\u001b[0m\u001b[0m\n\u001b[1;32m-> 3169\u001b[1;33m         \u001b[0mnew_labels\u001b[0m \u001b[1;33m=\u001b[0m \u001b[0mself\u001b[0m\u001b[1;33m.\u001b[0m\u001b[0mtake\u001b[0m\u001b[1;33m(\u001b[0m\u001b[0mindexer\u001b[0m\u001b[1;33m[\u001b[0m\u001b[0mcheck\u001b[0m\u001b[1;33m]\u001b[0m\u001b[1;33m)\u001b[0m\u001b[1;33m\u001b[0m\u001b[1;33m\u001b[0m\u001b[0m\n\u001b[0m\u001b[0;32m   3170\u001b[0m         \u001b[0mnew_indexer\u001b[0m \u001b[1;33m=\u001b[0m \u001b[1;32mNone\u001b[0m\u001b[1;33m\u001b[0m\u001b[1;33m\u001b[0m\u001b[0m\n\u001b[0;32m   3171\u001b[0m \u001b[1;33m\u001b[0m\u001b[0m\n",
      "\u001b[1;32m~\\Anaconda3\\lib\\site-packages\\pandas\\core\\indexes\\base.py\u001b[0m in \u001b[0;36mtake\u001b[1;34m(self, indices, axis, allow_fill, fill_value, **kwargs)\u001b[0m\n\u001b[0;32m    797\u001b[0m                 \u001b[0mmsg\u001b[0m \u001b[1;33m=\u001b[0m \u001b[1;34m'Unable to fill values because {0} cannot contain NA'\u001b[0m\u001b[1;33m\u001b[0m\u001b[1;33m\u001b[0m\u001b[0m\n\u001b[0;32m    798\u001b[0m                 \u001b[1;32mraise\u001b[0m \u001b[0mValueError\u001b[0m\u001b[1;33m(\u001b[0m\u001b[0mmsg\u001b[0m\u001b[1;33m.\u001b[0m\u001b[0mformat\u001b[0m\u001b[1;33m(\u001b[0m\u001b[0mself\u001b[0m\u001b[1;33m.\u001b[0m\u001b[0m__class__\u001b[0m\u001b[1;33m.\u001b[0m\u001b[0m__name__\u001b[0m\u001b[1;33m)\u001b[0m\u001b[1;33m)\u001b[0m\u001b[1;33m\u001b[0m\u001b[1;33m\u001b[0m\u001b[0m\n\u001b[1;32m--> 799\u001b[1;33m             \u001b[0mtaken\u001b[0m \u001b[1;33m=\u001b[0m \u001b[0mself\u001b[0m\u001b[1;33m.\u001b[0m\u001b[0mvalues\u001b[0m\u001b[1;33m.\u001b[0m\u001b[0mtake\u001b[0m\u001b[1;33m(\u001b[0m\u001b[0mindices\u001b[0m\u001b[1;33m)\u001b[0m\u001b[1;33m\u001b[0m\u001b[1;33m\u001b[0m\u001b[0m\n\u001b[0m\u001b[0;32m    800\u001b[0m         \u001b[1;32mreturn\u001b[0m \u001b[0mself\u001b[0m\u001b[1;33m.\u001b[0m\u001b[0m_shallow_copy\u001b[0m\u001b[1;33m(\u001b[0m\u001b[0mtaken\u001b[0m\u001b[1;33m)\u001b[0m\u001b[1;33m\u001b[0m\u001b[1;33m\u001b[0m\u001b[0m\n\u001b[0;32m    801\u001b[0m \u001b[1;33m\u001b[0m\u001b[0m\n",
      "\u001b[1;31mKeyboardInterrupt\u001b[0m: "
     ]
    }
   ],
   "source": [
    "patient_info = {'patid':[], \n",
    "       'date' : [],\n",
    "       'd1_record': [],\n",
    "       'drug8_record':[]\n",
    "      }\n",
    "sample_date = []\n",
    "for i in patient:\n",
    "    if i in drug8_p: #If take the drug\n",
    "        patient_info['patid'].append(i)\n",
    "        if i in d1_p: #If have the disease 1\n",
    "            diagnose =  d1.loc[[i],'fst_dt'].values[0]\n",
    "            sub_tmp = drug8.loc[[i],:]\n",
    "            sub = sub_tmp[(sub_tmp['VXX_dt']<diagnose-14) &  (sub_tmp['sup_dt']>diagnose-60)]\n",
    "            if len(sub) == 0: #if no record satisfies the time condition\n",
    "                patient_info['date'].append(np.random.choice(sub_tmp['VXX_dt'].values))\n",
    "                patient_info['d1_record'].append(0) #randomly pick one record\n",
    "            else: #if at least one record satisfies the time condition\n",
    "                patient_info['date'].append(sub['VXX_dt'].values[0])\n",
    "                patient_info['d1_record'].append(1) #randomly pick the first record satisfying the time condition\n",
    "        else: #If no disease 1\n",
    "            patient_info['date'].append(np.random.choice(drug8.loc[[i],'VXX_dt'].values))\n",
    "            sample_date.append(patient_info['date'][-1])\n",
    "            patient_info['d1_record'].append(0) # randomly pick one record\n",
    "        patient_info['drug8_record'].append(1) \n",
    "        \n",
    "for i in patient:\n",
    "    if i not in drug8_p:\n",
    "        patient_info['patid'].append(i)\n",
    "        if i in d1_p: #If have the disease 1\n",
    "            patient_info['date'].append(d1.loc[[i], 'fst_dt'].values[0] - np.random.randint(14,60))\n",
    "            patient_info['d1_record'].append(1) #randomly pick a date 14-60 days between getting the disease\n",
    "        else: #If no disease 1\n",
    "            patient_info['date'].append(np.random.choice(sample_date))\n",
    "            patient_info['d1_record'].append(0) #randomly pick a date between 500 and 2000\n",
    "        patient_info['drug8_record'].append(0)\n",
    "patient_info = pd.DataFrame(patient_info)    "
   ]
  },
  {
   "cell_type": "code",
   "execution_count": 9,
   "metadata": {},
   "outputs": [
    {
     "name": "stderr",
     "output_type": "stream",
     "text": [
      "C:\\Users\\peter\\Anaconda3\\lib\\site-packages\\pandas\\core\\indexing.py:362: SettingWithCopyWarning: \n",
      "A value is trying to be set on a copy of a slice from a DataFrame.\n",
      "Try using .loc[row_indexer,col_indexer] = value instead\n",
      "\n",
      "See the caveats in the documentation: http://pandas.pydata.org/pandas-docs/stable/indexing.html#indexing-view-versus-copy\n",
      "  self.obj[key] = _infer_fill_value(value)\n",
      "C:\\Users\\peter\\Anaconda3\\lib\\site-packages\\pandas\\core\\indexing.py:543: SettingWithCopyWarning: \n",
      "A value is trying to be set on a copy of a slice from a DataFrame.\n",
      "Try using .loc[row_indexer,col_indexer] = value instead\n",
      "\n",
      "See the caveats in the documentation: http://pandas.pydata.org/pandas-docs/stable/indexing.html#indexing-view-versus-copy\n",
      "  self.obj[item] = s\n"
     ]
    }
   ],
   "source": [
    "patient_info_tmp = pd.merge(patient_info, drug3, on = 'patid', how = 'left')\n",
    "patient_info_tmp.loc[patient_info_tmp['VXX_dt']<patient_info_tmp['date'],'drug3']=1 #If taking drug3 before the date, set column ‘drug3’ to be 1\n",
    "patient_info_tmp.loc[patient_info_tmp['drug3']!=1,'drug3']=0\n",
    "patient_info_tmp_10 = patient_info_tmp.drop_duplicates('patid')\n",
    "patient_info_tmp_10=patient_info_tmp_10[['patid','drug3']]\n",
    "patient_info_tmp_date = patient_info_tmp[patient_info_tmp['drug3'] == 1]\n",
    "patient_info_tmp_date.loc[:,'drug3_date'] = patient_info_tmp_date['date'] - patient_info_tmp_date['sup_dt'] \n",
    "patient_info_tmp_date.loc[patient_info_tmp_date['drug3_date']<0,'drug3_date'] = 0 #exacting all record with drug3 = 1, calculate the latest time taking drug 3\n",
    "patient_info_tmp_date = patient_info_tmp_date.drop_duplicates('patid', keep='last')\n",
    "patient_info_tmp_date = patient_info_tmp_date[['patid','drug3_date']]\n",
    "patient_info = pd.merge(patient_info, patient_info_tmp_10, on='patid', how ='left')\n",
    "patient_info = pd.merge(patient_info, patient_info_tmp_date, on = 'patid', how = 'left') #merge\n",
    "\n",
    "patient_info_tmp = pd.merge(patient_info, drug10, on = 'patid', how = 'left')\n",
    "patient_info_tmp.loc[patient_info_tmp['VXX_dt']<patient_info_tmp['date'],'drug10']=1\n",
    "patient_info_tmp.loc[patient_info_tmp['drug10']!=1,'drug10']=0\n",
    "patient_info_tmp_10 = patient_info_tmp.drop_duplicates('patid')\n",
    "patient_info_tmp_10=patient_info_tmp_10[['patid','drug10']]\n",
    "patient_info_tmp_date = patient_info_tmp[patient_info_tmp['drug10'] == 1]\n",
    "patient_info_tmp_date.loc[:,'drug10_date'] = patient_info_tmp_date['date'] - patient_info_tmp_date['sup_dt'] \n",
    "patient_info_tmp_date.loc[patient_info_tmp_date['drug10_date']<0,'drug10_date'] = 0\n",
    "patient_info_tmp_date = patient_info_tmp_date.drop_duplicates('patid', keep='last')\n",
    "patient_info_tmp_date = patient_info_tmp_date[['patid','drug10_date']]\n",
    "patient_info = pd.merge(patient_info, patient_info_tmp_10, on='patid', how ='left')\n",
    "patient_info = pd.merge(patient_info, patient_info_tmp_date, on = 'patid', how = 'left')\n",
    "\n",
    "patient_info_tmp = pd.merge(patient_info, drug8, on = 'patid', how = 'left')\n",
    "patient_info_tmp.loc[patient_info_tmp['VXX_dt']<patient_info_tmp['date'],'drug8']=1\n",
    "patient_info_tmp.loc[patient_info_tmp['drug8']!=1,'drug8']=0\n",
    "patient_info_tmp_10 = patient_info_tmp.drop_duplicates('patid')\n",
    "patient_info_tmp_10=patient_info_tmp_10[['patid','drug8']]\n",
    "patient_info_tmp_date = patient_info_tmp[patient_info_tmp['drug8'] == 1]\n",
    "patient_info_tmp_date.loc[:,'drug8_date'] = patient_info_tmp_date['date'] - patient_info_tmp_date['sup_dt'] \n",
    "patient_info_tmp_date.loc[patient_info_tmp_date['drug8_date']<0,'drug8_date'] = 0\n",
    "patient_info_tmp_date = patient_info_tmp_date.drop_duplicates('patid', keep='last')\n",
    "patient_info_tmp_date = patient_info_tmp_date[['patid','drug8_date']]\n",
    "patient_info = pd.merge(patient_info, patient_info_tmp_10, on='patid', how ='left')\n",
    "patient_info = pd.merge(patient_info, patient_info_tmp_date, on = 'patid', how = 'left')\n",
    "\n",
    "patient_info_tmp = pd.merge(patient_info, d2, on = 'patid', how = 'left')\n",
    "patient_info_tmp.loc[patient_info_tmp['fst_dt']<patient_info_tmp['date'],'d2']=1\n",
    "patient_info_tmp.loc[patient_info_tmp['d2']!=1,'d2']=0\n",
    "patient_info_tmp_10 = patient_info_tmp.drop_duplicates('patid')\n",
    "patient_info_tmp_10=patient_info_tmp_10[['patid','d2']]\n",
    "patient_info_tmp_date = patient_info_tmp[patient_info_tmp['d2'] == 1]\n",
    "patient_info_tmp_date.loc[:,'d2_date'] = patient_info_tmp_date['date'] - patient_info_tmp_date['fst_dt']\n",
    "patient_info_tmp_date = patient_info_tmp_date.drop_duplicates('patid', keep='last')\n",
    "patient_info_tmp_date = patient_info_tmp_date[['patid','d2_date']]\n",
    "patient_info = pd.merge(patient_info, patient_info_tmp_10, on='patid', how ='left')\n",
    "patient_info = pd.merge(patient_info, patient_info_tmp_date, on = 'patid', how = 'left')\n",
    "\n",
    "patient_info_tmp = pd.merge(patient_info, d5, on = 'patid', how = 'left')\n",
    "patient_info_tmp.loc[patient_info_tmp['fst_dt']<patient_info_tmp['date'],'d5']=1\n",
    "patient_info_tmp.loc[patient_info_tmp['d5']!=1,'d5']=0\n",
    "patient_info_tmp_10 = patient_info_tmp.drop_duplicates('patid')\n",
    "patient_info_tmp_10=patient_info_tmp_10[['patid','d5']]\n",
    "patient_info_tmp_date = patient_info_tmp[patient_info_tmp['d5'] == 1]\n",
    "patient_info_tmp_date.loc[:,'d5_date'] = patient_info_tmp_date['date'] - patient_info_tmp_date['fst_dt']\n",
    "patient_info_tmp_date = patient_info_tmp_date.drop_duplicates('patid', keep='last')\n",
    "patient_info_tmp_date = patient_info_tmp_date[['patid','d5_date']]\n",
    "patient_info = pd.merge(patient_info, patient_info_tmp_10, on='patid', how ='left')\n",
    "patient_info = pd.merge(patient_info, patient_info_tmp_date, on = 'patid', how = 'left')\n",
    "\n",
    "patient_info = pd.merge(patient_info,meta, on='patid', how='left')"
   ]
  },
  {
   "cell_type": "code",
   "execution_count": 10,
   "metadata": {},
   "outputs": [],
   "source": [
    "patient_info_8 = patient_info[patient_info['drug8_record']==1]\n",
    "patient_info_no_8 = patient_info[patient_info['drug8_record']==0]"
   ]
  },
  {
   "cell_type": "code",
   "execution_count": 11,
   "metadata": {},
   "outputs": [
    {
     "data": {
      "text/plain": [
       "(127, 233410, 867, 204555)"
      ]
     },
     "execution_count": 11,
     "metadata": {},
     "output_type": "execute_result"
    }
   ],
   "source": [
    "len(red_8[red_8['d1_record']==1]), len(red_8[red_8['d1_record']==0]), len(red_no_8[red_no_8['d1_record']==1]), len(red_no_8[red_no_8['d1_record']==0])"
   ]
  },
  {
   "cell_type": "code",
   "execution_count": 12,
   "metadata": {},
   "outputs": [
    {
     "data": {
      "text/plain": [
       "(652.3070287225964,\n",
       " 7.036865370774887e-144,\n",
       " 1,\n",
       " array([[   528.83248322, 233008.16751678],\n",
       "        [   465.16751678, 204956.83248322]]))"
      ]
     },
     "execution_count": 12,
     "metadata": {},
     "output_type": "execute_result"
    }
   ],
   "source": [
    "d = np.array([[127, 233410], [867, 204555]])\n",
    "chi2_contingency(d)"
   ]
  },
  {
   "cell_type": "code",
   "execution_count": 17,
   "metadata": {},
   "outputs": [],
   "source": [
    "import pickle \n",
    "with open('red.pkl', 'wb') as f:\n",
    "    pickle.dump(patient_info_8, f)\n",
    "with open('red_no.pkl', 'wb') as f:\n",
    "    pickle.dump(patient_info_no_8, f)"
   ]
  },
  {
   "cell_type": "code",
   "execution_count": 34,
   "metadata": {},
   "outputs": [],
   "source": [
    "import pickle\n",
    "with open('red.pkl', 'rb') as f:\n",
    "    patient_info_8 = pickle.load(f)\n",
    "    \n",
    "with open('red_no.pkl', 'rb') as f:\n",
    "    patient_info_no_8 = pickle.load(f)"
   ]
  },
  {
   "cell_type": "code",
   "execution_count": 9,
   "metadata": {},
   "outputs": [],
   "source": [
    "patient_info_8['drug3'] = patient_info_8['drug3'].apply(int).apply(str)\n",
    "patient_info_8['drug10'] = patient_info_8['drug10'].apply(int).apply(str)\n",
    "patient_info_8['drug8'] = patient_info_8['drug8'].apply(int).apply(str)\n",
    "patient_info_8['d2'] = patient_info_8['d2'].apply(int).apply(str)\n",
    "patient_info_8['d5'] = patient_info_8['d5'].apply(int).apply(str)\n",
    "patient_info_8['yrdob'] = patient_info_8['yrdob'].apply(int).apply(str)"
   ]
  },
  {
   "cell_type": "code",
   "execution_count": 8,
   "metadata": {},
   "outputs": [],
   "source": [
    "patient_info_no_8['drug3'] = patient_info_no_8['drug3'].apply(int).apply(str)\n",
    "patient_info_no_8['drug10'] = patient_info_no_8['drug10'].apply(int).apply(str)\n",
    "patient_info_no_8['drug8'] = patient_info_no_8['drug8'].apply(int).apply(str)\n",
    "patient_info_no_8['d2'] = patient_info_no_8['d2'].apply(int).apply(str)\n",
    "patient_info_no_8['d5'] = patient_info_no_8['d5'].apply(int).apply(str)\n",
    "patient_info_no_8['yrdob'] = patient_info_no_8['yrdob'].apply(int).apply(str)"
   ]
  },
  {
   "cell_type": "code",
   "execution_count": 10,
   "metadata": {},
   "outputs": [],
   "source": [
    "patient_info_8.loc[:, 'key'] = patient_info_8['drug3']+patient_info_8['drug10']+patient_info_8['drug8']+patient_info_8['d2']+patient_info_8['d5']+patient_info_8['GDR_CD']+patient_info_8['yrdob']\n",
    "patient_info_no_8.loc[:,'key'] = patient_info_no_8['drug3']+patient_info_no_8['drug10']+patient_info_no_8['drug8']+patient_info_no_8['d2']+patient_info_no_8['d5']+patient_info_no_8['GDR_CD']+patient_info_no_8['yrdob']"
   ]
  },
  {
   "cell_type": "code",
   "execution_count": 13,
   "metadata": {},
   "outputs": [],
   "source": [
    "patient_info_8.index = np.arange(len(patient_info_8))\n",
    "patient_info_no_8.index = np.arange(len(patient_info_no_8))"
   ]
  },
  {
   "cell_type": "code",
   "execution_count": 15,
   "metadata": {},
   "outputs": [],
   "source": [
    "array1 = patient_info_8['key'].values\n",
    "res1 = patient_info_8['d1_record'].values\n",
    "array2 = patient_info_no_8['key'].values\n",
    "res2 = patient_info_no_8['d1_record'].values"
   ]
  },
  {
   "cell_type": "code",
   "execution_count": 16,
   "metadata": {},
   "outputs": [],
   "source": [
    "res1 = res1[np.argsort(array1)]\n",
    "array1 = array1[np.argsort(array1)]\n",
    "res2 = res2[np.argsort(array2)]\n",
    "array2 = array2[np.argsort(array2)]"
   ]
  },
  {
   "cell_type": "code",
   "execution_count": 17,
   "metadata": {},
   "outputs": [],
   "source": [
    "point1a = 0\n",
    "point1b = 0\n",
    "point2a = 0\n",
    "point2b = 0\n",
    "res1_tot = 0\n",
    "res2_tot = 0 \n",
    "tot = 0\n",
    "while point1a < len(res1):\n",
    "    while array1[point1b] == array1[point1a]:\n",
    "        point1b += 1\n",
    "        if point1b >= len(res1):\n",
    "            break\n",
    "    tmp1 = res1[point1a:point1b]\n",
    "    if array2[point2a]<array1[point1a]:\n",
    "        while array2[point2a]<array1[point1a]:\n",
    "            point2a+=1\n",
    "            if point2a >= len(res2):\n",
    "                break\n",
    "    if point2a >= len(res2):\n",
    "        break\n",
    "    if array2[point2a]>array1[point1a]:\n",
    "        point1a = point1b\n",
    "        point1b = point1a\n",
    "        continue\n",
    "    else:\n",
    "        point2b = point2a\n",
    "        while array2[point2b] == array2[point2a]:\n",
    "            point2b += 1\n",
    "        tmp2 = res2[point2a:point2b]\n",
    "        tot += len(tmp1)\n",
    "        res1_tot += np.sum(tmp1)\n",
    "        res2_tot += np.mean(tmp2)*len(tmp1)\n",
    "        point1a = point1b\n",
    "        point1b = point1a\n",
    "        point2a = point2b\n",
    "        point2b = point2a\n"
   ]
  },
  {
   "cell_type": "code",
   "execution_count": 48,
   "metadata": {},
   "outputs": [],
   "source": [
    "point1a = 0\n",
    "point1b = 0\n",
    "point2a = 0\n",
    "point2b = 0\n",
    "res1_tot = 0\n",
    "res2_tot = 0 \n",
    "tot = 0\n",
    "while point1a < len(res1):\n",
    "    while array1[point1b] == array1[point1a]:\n",
    "        point1b += 1\n",
    "        if point1b >= len(res1):\n",
    "            break\n",
    "    tmp1 = res1[point1a:point1b]\n",
    "    if array2[point2a]<array1[point1a]:\n",
    "        while array2[point2a]<array1[point1a]:\n",
    "            point2a+=1\n",
    "            if point2a >= len(res2):\n",
    "                break\n",
    "    if point2a >= len(res2):\n",
    "        break\n",
    "    if array2[point2a]>array1[point1a]:\n",
    "        point1a = point1b\n",
    "        point1b = point1a\n",
    "        continue\n",
    "    else:\n",
    "        point2b = point2a\n",
    "        while array2[point2b] == array2[point2a]:\n",
    "            point2b += 1\n",
    "        tmp2 = res2[point2a:point2b]\n",
    "        tot += (len(tmp1)+len(tmp2))/2\n",
    "        res1_tot += np.mean(tmp1)*(len(tmp1)+len(tmp2))/2\n",
    "        res2_tot += np.mean(tmp2)*(len(tmp1)+len(tmp2))/2\n",
    "        point1a = point1b\n",
    "        point1b = point1a\n",
    "        point2a = point2b\n",
    "        point2b = point2a\n"
   ]
  },
  {
   "cell_type": "code",
   "execution_count": 49,
   "metadata": {},
   "outputs": [
    {
     "data": {
      "text/plain": [
       "194368.5"
      ]
     },
     "execution_count": 49,
     "metadata": {},
     "output_type": "execute_result"
    }
   ],
   "source": [
    "tot"
   ]
  },
  {
   "cell_type": "code",
   "execution_count": 50,
   "metadata": {},
   "outputs": [
    {
     "data": {
      "text/plain": [
       "67.61968395188565"
      ]
     },
     "execution_count": 50,
     "metadata": {},
     "output_type": "execute_result"
    }
   ],
   "source": [
    "res1_tot"
   ]
  },
  {
   "cell_type": "code",
   "execution_count": 51,
   "metadata": {},
   "outputs": [
    {
     "data": {
      "text/plain": [
       "876.4956429376175"
      ]
     },
     "execution_count": 51,
     "metadata": {},
     "output_type": "execute_result"
    }
   ],
   "source": [
    "res2_tot"
   ]
  },
  {
   "cell_type": "markdown",
   "metadata": {},
   "source": [
    "# Matching with binary columns"
   ]
  },
  {
   "cell_type": "code",
   "execution_count": 90,
   "metadata": {},
   "outputs": [],
   "source": [
    "res1_tot = 0\n",
    "res2_tot = 0 \n",
    "tot = 0\n",
    "for i in np.unique(array1):\n",
    "    tmp=res2[array2==i]\n",
    "    if(len(tmp))>0:\n",
    "        tmp1 = res1[array1==i]\n",
    "        tot += len(tmp1)\n",
    "        res1_tot += np.sum(res1[array1==i])\n",
    "        res2_tot += np.mean(tmp)*len(tmp1)"
   ]
  },
  {
   "cell_type": "code",
   "execution_count": 14,
   "metadata": {},
   "outputs": [],
   "source": [
    "red_no_8_copy = copy.deepcopy(red_no_8)\n",
    "red_8.index = np.arange(len(red_8))\n",
    "no_index = []\n",
    "yes_index = []\n",
    "for i in range(len(red_8)):\n",
    "    v1 = red_8.loc[i, 'drug3']\n",
    "    v2 = red_8.loc[i, 'drug10']\n",
    "    v3 = red_8.loc[i, 'drug8']\n",
    "    v4 = red_8.loc[i, 'd2']\n",
    "    v5 = red_8.loc[i, 'd5']\n",
    "    v6 = red_8.loc[i, 'GDR_CD']\n",
    "    v7 = red_8.loc[i, 'yrdob']\n",
    "    match = red_no_8_copy[(red_no_8_copy['drug3']==v1)&\n",
    "                          (red_no_8_copy['drug10']==v2)&\n",
    "                          (red_no_8_copy['drug8']==v3)&\n",
    "                          (red_no_8_copy['d2']==v4)&\n",
    "                         (red_no_8_copy['d5']==v5)&\n",
    "                         (red_no_8_copy['GDR_CD']==v6)&\n",
    "                         (red_no_8_copy['yrdob']==v7)]\n",
    "    if(len(match)>0):\n",
    "        yes_index.append(i)\n",
    "        tmp = match.index[0]\n",
    "        no_index.append(tmp)\n",
    "        red_no_8_copy.drop(tmp,axis=0, inplace=True)\n",
    "no_drug = red_no_8.loc[no_index,:]\n",
    "yes_drug = red_8.loc[yes_index,:]"
   ]
  },
  {
   "cell_type": "code",
   "execution_count": 16,
   "metadata": {},
   "outputs": [
    {
     "data": {
      "text/plain": [
       "410"
      ]
     },
     "execution_count": 16,
     "metadata": {},
     "output_type": "execute_result"
    }
   ],
   "source": [
    "len(no_drug[no_drug['d1_record']==1])"
   ]
  },
  {
   "cell_type": "code",
   "execution_count": 17,
   "metadata": {},
   "outputs": [
    {
     "data": {
      "text/plain": [
       "94736"
      ]
     },
     "execution_count": 17,
     "metadata": {},
     "output_type": "execute_result"
    }
   ],
   "source": [
    "len(no_drug[no_drug['d1_record']==0])"
   ]
  },
  {
   "cell_type": "code",
   "execution_count": 18,
   "metadata": {},
   "outputs": [
    {
     "data": {
      "text/plain": [
       "29"
      ]
     },
     "execution_count": 18,
     "metadata": {},
     "output_type": "execute_result"
    }
   ],
   "source": [
    "len(yes_drug[yes_drug['d1_record'] == 1])"
   ]
  },
  {
   "cell_type": "code",
   "execution_count": 19,
   "metadata": {},
   "outputs": [
    {
     "data": {
      "text/plain": [
       "95117"
      ]
     },
     "execution_count": 19,
     "metadata": {},
     "output_type": "execute_result"
    }
   ],
   "source": [
    "len(yes_drug[yes_drug['d1_record'] == 0])"
   ]
  },
  {
   "cell_type": "code",
   "execution_count": 2,
   "metadata": {},
   "outputs": [
    {
     "data": {
      "text/plain": [
       "(329.68997342111004, 1.1228239172459087e-73, 1, array([[  219.5, 94926.5],\n",
       "        [  219.5, 94926.5]]))"
      ]
     },
     "execution_count": 2,
     "metadata": {},
     "output_type": "execute_result"
    }
   ],
   "source": [
    "d = np.array([[410, 94736], [29, 95117]])\n",
    "chi2_contingency(d)"
   ]
  },
  {
   "cell_type": "markdown",
   "metadata": {},
   "source": [
    "# Matching with date columns"
   ]
  },
  {
   "cell_type": "code",
   "execution_count": 17,
   "metadata": {},
   "outputs": [],
   "source": [
    "red_no_8_copy = copy.deepcopy(red_no_8)\n",
    "red_8.index = np.arange(len(red_8))\n",
    "red_no_8_copy = copy.deepcopy(red_no_8)\n",
    "no_index = []\n",
    "yes_index = []\n",
    "for i in range(len(red_8)):\n",
    "    match = red_no_8_copy\n",
    "    v1 = red_8.loc[i, 'drug3_date']\n",
    "    v2 = red_8.loc[i, 'drug10_date']\n",
    "    v3 = red_8.loc[i, 'drug8_date']\n",
    "    v4 = red_8.loc[i, 'd2_date']\n",
    "    v5 = red_8.loc[i, 'd5_date']\n",
    "    \n",
    "    if np.isnan(v1):\n",
    "        match = match[match['drug3_date'].isna()]\n",
    "    else:\n",
    "        match = match[match['drug3_date'] == v1]\n",
    "    if np.isnan(v2):\n",
    "        match = match[match['drug10_date'].isna()]\n",
    "    else:\n",
    "        match = match[match['drug10_date'] == v2]\n",
    "    if np.isnan(v3):\n",
    "        match = match[match['drug8_date'].isna()]\n",
    "    else:\n",
    "        match = match[match['drug8_date'] == v3]\n",
    "    if np.isnan(v4):\n",
    "        match = match[match['d2_date'].isna()]\n",
    "    else:\n",
    "        match = match[match['d2_date'] == v4]\n",
    "    if np.isnan(v5):\n",
    "        match = match[match['d5_date'].isna()]\n",
    "    else:\n",
    "        match = match[match['d5_date'] == v5]\n",
    "\n",
    "    v6 = red_8.loc[i, 'GDR_CD']\n",
    "    v7 = red_8.loc[i, 'yrdob']\n",
    "    match = match[(match['GDR_CD']==v6) & (match['yrdob']==v7)]\n",
    "    if(len(match)>0):\n",
    "        yes_index.append(i)\n",
    "        tmp = match.index[0]\n",
    "        no_index.append(tmp)\n",
    "        red_no_8_copy.drop(tmp,axis=0, inplace=True)\n",
    "no_drug = red_no_8.loc[no_index,:]\n",
    "yes_drug = red_8.loc[yes_index,:]"
   ]
  },
  {
   "cell_type": "code",
   "execution_count": 19,
   "metadata": {},
   "outputs": [
    {
     "data": {
      "text/plain": [
       "399"
      ]
     },
     "execution_count": 19,
     "metadata": {},
     "output_type": "execute_result"
    }
   ],
   "source": [
    "len(no_drug[no_drug['d1_record']==1])"
   ]
  },
  {
   "cell_type": "code",
   "execution_count": 20,
   "metadata": {},
   "outputs": [
    {
     "data": {
      "text/plain": [
       "91400"
      ]
     },
     "execution_count": 20,
     "metadata": {},
     "output_type": "execute_result"
    }
   ],
   "source": [
    "len(no_drug[no_drug['d1_record']==0])"
   ]
  },
  {
   "cell_type": "code",
   "execution_count": 21,
   "metadata": {},
   "outputs": [
    {
     "data": {
      "text/plain": [
       "28"
      ]
     },
     "execution_count": 21,
     "metadata": {},
     "output_type": "execute_result"
    }
   ],
   "source": [
    "len(yes_drug[yes_drug['d1_record'] == 1])"
   ]
  },
  {
   "cell_type": "code",
   "execution_count": 22,
   "metadata": {},
   "outputs": [
    {
     "data": {
      "text/plain": [
       "91771"
      ]
     },
     "execution_count": 22,
     "metadata": {},
     "output_type": "execute_result"
    }
   ],
   "source": [
    "len(yes_drug[yes_drug['d1_record'] == 0])"
   ]
  },
  {
   "cell_type": "code",
   "execution_count": 23,
   "metadata": {},
   "outputs": [
    {
     "data": {
      "text/plain": [
       "(330.237892344217, 8.530493248095933e-74, 1, array([[  218., 91368.],\n",
       "        [  218., 91368.]]))"
      ]
     },
     "execution_count": 23,
     "metadata": {},
     "output_type": "execute_result"
    }
   ],
   "source": [
    "d = np.array([[408, 91178], [28, 91558]])\n",
    "chi2_contingency(d)"
   ]
  },
  {
   "cell_type": "code",
   "execution_count": 36,
   "metadata": {},
   "outputs": [],
   "source": [
    "patient_info_8 = patient_info_8.drop(['drug3_date','drug10_date','drug8_date','d2_date','d5_date'], axis=1)\n",
    "patient_info_no_8 = patient_info_no_8.drop(['drug3_date','drug10_date','drug8_date','d2_date','d5_date'], axis=1)"
   ]
  },
  {
   "cell_type": "code",
   "execution_count": 37,
   "metadata": {},
   "outputs": [
    {
     "name": "stdout",
     "output_type": "stream",
     "text": [
      "Formula:\n",
      "drug8_record ~ drug3+drug8+d2+d5+GDR_CD+yrdob\n",
      "n majority: 233537\n",
      "n minority: 205422\n"
     ]
    }
   ],
   "source": [
    "from pymatch.Matcher import Matcher\n",
    "\n",
    "features_excluded = ['patid','date','d1_record','drug10']\n",
    "matcher = Matcher(patient_info_8, patient_info_no_8, yvar='drug8_record', exclude=features_excluded)"
   ]
  },
  {
   "cell_type": "code",
   "execution_count": 42,
   "metadata": {},
   "outputs": [
    {
     "data": {
      "text/plain": [
       "0         1\n",
       "1         1\n",
       "2         1\n",
       "3         1\n",
       "4         1\n",
       "5         1\n",
       "6         1\n",
       "7         1\n",
       "8         1\n",
       "9         1\n",
       "10        1\n",
       "11        1\n",
       "12        1\n",
       "13        1\n",
       "14        1\n",
       "15        1\n",
       "16        1\n",
       "17        1\n",
       "18        1\n",
       "19        1\n",
       "20        1\n",
       "21        1\n",
       "22        1\n",
       "23        1\n",
       "24        1\n",
       "25        1\n",
       "26        1\n",
       "27        1\n",
       "28        1\n",
       "29        1\n",
       "         ..\n",
       "233507    1\n",
       "233508    1\n",
       "233509    1\n",
       "233510    1\n",
       "233511    1\n",
       "233512    1\n",
       "233513    1\n",
       "233514    1\n",
       "233515    1\n",
       "233516    1\n",
       "233517    1\n",
       "233518    1\n",
       "233519    1\n",
       "233520    1\n",
       "233521    1\n",
       "233522    1\n",
       "233523    1\n",
       "233524    1\n",
       "233525    1\n",
       "233526    1\n",
       "233527    1\n",
       "233528    1\n",
       "233529    1\n",
       "233530    1\n",
       "233531    1\n",
       "233532    1\n",
       "233533    1\n",
       "233534    1\n",
       "233535    1\n",
       "233536    1\n",
       "Name: drug8_record, Length: 233537, dtype: int64"
      ]
     },
     "execution_count": 42,
     "metadata": {},
     "output_type": "execute_result"
    }
   ],
   "source": [
    "patient_info_8['drug8_record']"
   ]
  },
  {
   "cell_type": "code",
   "execution_count": 38,
   "metadata": {},
   "outputs": [
    {
     "name": "stdout",
     "output_type": "stream",
     "text": [
      "Fitting 1 (Unbalanced) Model...\n"
     ]
    },
    {
     "ename": "ValueError",
     "evalue": "Unable to coerce to Series, length must be 1: given 438959",
     "output_type": "error",
     "traceback": [
      "\u001b[1;31m---------------------------------------------------------------------------\u001b[0m",
      "\u001b[1;31mValueError\u001b[0m                                Traceback (most recent call last)",
      "\u001b[1;32m<ipython-input-38-a1541ab17c90>\u001b[0m in \u001b[0;36m<module>\u001b[1;34m\u001b[0m\n\u001b[1;32m----> 1\u001b[1;33m \u001b[0mmatcher\u001b[0m\u001b[1;33m.\u001b[0m\u001b[0mfit_scores\u001b[0m\u001b[1;33m(\u001b[0m\u001b[0mbalance\u001b[0m\u001b[1;33m=\u001b[0m\u001b[1;32mFalse\u001b[0m\u001b[1;33m,\u001b[0m \u001b[0mnmodels\u001b[0m\u001b[1;33m=\u001b[0m\u001b[1;36m1\u001b[0m\u001b[1;33m)\u001b[0m\u001b[1;33m\u001b[0m\u001b[1;33m\u001b[0m\u001b[0m\n\u001b[0m",
      "\u001b[1;32m~\\Anaconda3\\lib\\site-packages\\pymatch\\Matcher.py\u001b[0m in \u001b[0;36mfit_scores\u001b[1;34m(self, balance, nmodels)\u001b[0m\n\u001b[0;32m    122\u001b[0m             \u001b[0mglm\u001b[0m \u001b[1;33m=\u001b[0m \u001b[0mGLM\u001b[0m\u001b[1;33m(\u001b[0m\u001b[0mself\u001b[0m\u001b[1;33m.\u001b[0m\u001b[0my\u001b[0m\u001b[1;33m,\u001b[0m \u001b[0mself\u001b[0m\u001b[1;33m.\u001b[0m\u001b[0mX\u001b[0m\u001b[1;33m,\u001b[0m \u001b[0mfamily\u001b[0m\u001b[1;33m=\u001b[0m\u001b[0msm\u001b[0m\u001b[1;33m.\u001b[0m\u001b[0mfamilies\u001b[0m\u001b[1;33m.\u001b[0m\u001b[0mBinomial\u001b[0m\u001b[1;33m(\u001b[0m\u001b[1;33m)\u001b[0m\u001b[1;33m)\u001b[0m\u001b[1;33m\u001b[0m\u001b[1;33m\u001b[0m\u001b[0m\n\u001b[0;32m    123\u001b[0m             \u001b[0mres\u001b[0m \u001b[1;33m=\u001b[0m \u001b[0mglm\u001b[0m\u001b[1;33m.\u001b[0m\u001b[0mfit\u001b[0m\u001b[1;33m(\u001b[0m\u001b[1;33m)\u001b[0m\u001b[1;33m\u001b[0m\u001b[1;33m\u001b[0m\u001b[0m\n\u001b[1;32m--> 124\u001b[1;33m             \u001b[0mself\u001b[0m\u001b[1;33m.\u001b[0m\u001b[0mmodel_accuracy\u001b[0m\u001b[1;33m.\u001b[0m\u001b[0mappend\u001b[0m\u001b[1;33m(\u001b[0m\u001b[0mself\u001b[0m\u001b[1;33m.\u001b[0m\u001b[0m_scores_to_accuracy\u001b[0m\u001b[1;33m(\u001b[0m\u001b[0mres\u001b[0m\u001b[1;33m,\u001b[0m \u001b[0mself\u001b[0m\u001b[1;33m.\u001b[0m\u001b[0mX\u001b[0m\u001b[1;33m,\u001b[0m \u001b[0mself\u001b[0m\u001b[1;33m.\u001b[0m\u001b[0my\u001b[0m\u001b[1;33m)\u001b[0m\u001b[1;33m)\u001b[0m\u001b[1;33m\u001b[0m\u001b[1;33m\u001b[0m\u001b[0m\n\u001b[0m\u001b[0;32m    125\u001b[0m             \u001b[0mself\u001b[0m\u001b[1;33m.\u001b[0m\u001b[0mmodels\u001b[0m\u001b[1;33m.\u001b[0m\u001b[0mappend\u001b[0m\u001b[1;33m(\u001b[0m\u001b[0mres\u001b[0m\u001b[1;33m)\u001b[0m\u001b[1;33m\u001b[0m\u001b[1;33m\u001b[0m\u001b[0m\n\u001b[0;32m    126\u001b[0m             \u001b[0mprint\u001b[0m\u001b[1;33m(\u001b[0m\u001b[1;34m\"\\nAccuracy\"\u001b[0m\u001b[1;33m,\u001b[0m \u001b[0mround\u001b[0m\u001b[1;33m(\u001b[0m\u001b[0mnp\u001b[0m\u001b[1;33m.\u001b[0m\u001b[0mmean\u001b[0m\u001b[1;33m(\u001b[0m\u001b[0mself\u001b[0m\u001b[1;33m.\u001b[0m\u001b[0mmodel_accuracy\u001b[0m\u001b[1;33m[\u001b[0m\u001b[1;36m0\u001b[0m\u001b[1;33m]\u001b[0m\u001b[1;33m)\u001b[0m \u001b[1;33m*\u001b[0m \u001b[1;36m100\u001b[0m\u001b[1;33m,\u001b[0m \u001b[1;36m2\u001b[0m\u001b[1;33m)\u001b[0m\u001b[1;33m)\u001b[0m\u001b[1;33m\u001b[0m\u001b[1;33m\u001b[0m\u001b[0m\n",
      "\u001b[1;32m~\\Anaconda3\\lib\\site-packages\\pymatch\\Matcher.py\u001b[0m in \u001b[0;36m_scores_to_accuracy\u001b[1;34m(m, X, y)\u001b[0m\n\u001b[0;32m    515\u001b[0m     \u001b[1;32mdef\u001b[0m \u001b[0m_scores_to_accuracy\u001b[0m\u001b[1;33m(\u001b[0m\u001b[0mm\u001b[0m\u001b[1;33m,\u001b[0m \u001b[0mX\u001b[0m\u001b[1;33m,\u001b[0m \u001b[0my\u001b[0m\u001b[1;33m)\u001b[0m\u001b[1;33m:\u001b[0m\u001b[1;33m\u001b[0m\u001b[1;33m\u001b[0m\u001b[0m\n\u001b[0;32m    516\u001b[0m         \u001b[0mpreds\u001b[0m \u001b[1;33m=\u001b[0m \u001b[1;33m[\u001b[0m\u001b[1;36m1.0\u001b[0m \u001b[1;32mif\u001b[0m \u001b[0mi\u001b[0m \u001b[1;33m>=\u001b[0m \u001b[1;36m.5\u001b[0m \u001b[1;32melse\u001b[0m \u001b[1;36m0.0\u001b[0m \u001b[1;32mfor\u001b[0m \u001b[0mi\u001b[0m \u001b[1;32min\u001b[0m \u001b[0mm\u001b[0m\u001b[1;33m.\u001b[0m\u001b[0mpredict\u001b[0m\u001b[1;33m(\u001b[0m\u001b[0mX\u001b[0m\u001b[1;33m)\u001b[0m\u001b[1;33m]\u001b[0m\u001b[1;33m\u001b[0m\u001b[1;33m\u001b[0m\u001b[0m\n\u001b[1;32m--> 517\u001b[1;33m         \u001b[1;32mreturn\u001b[0m \u001b[1;33m(\u001b[0m\u001b[0my\u001b[0m \u001b[1;33m==\u001b[0m \u001b[0mpreds\u001b[0m\u001b[1;33m)\u001b[0m\u001b[1;33m.\u001b[0m\u001b[0msum\u001b[0m\u001b[1;33m(\u001b[0m\u001b[1;33m)\u001b[0m \u001b[1;33m*\u001b[0m \u001b[1;36m1.0\u001b[0m \u001b[1;33m/\u001b[0m \u001b[0mlen\u001b[0m\u001b[1;33m(\u001b[0m\u001b[0my\u001b[0m\u001b[1;33m)\u001b[0m\u001b[1;33m\u001b[0m\u001b[1;33m\u001b[0m\u001b[0m\n\u001b[0m",
      "\u001b[1;32m~\\Anaconda3\\lib\\site-packages\\pandas\\core\\ops.py\u001b[0m in \u001b[0;36mf\u001b[1;34m(self, other)\u001b[0m\n\u001b[0;32m   2089\u001b[0m     \u001b[1;32mdef\u001b[0m \u001b[0mf\u001b[0m\u001b[1;33m(\u001b[0m\u001b[0mself\u001b[0m\u001b[1;33m,\u001b[0m \u001b[0mother\u001b[0m\u001b[1;33m)\u001b[0m\u001b[1;33m:\u001b[0m\u001b[1;33m\u001b[0m\u001b[1;33m\u001b[0m\u001b[0m\n\u001b[0;32m   2090\u001b[0m \u001b[1;33m\u001b[0m\u001b[0m\n\u001b[1;32m-> 2091\u001b[1;33m         \u001b[0mother\u001b[0m \u001b[1;33m=\u001b[0m \u001b[0m_align_method_FRAME\u001b[0m\u001b[1;33m(\u001b[0m\u001b[0mself\u001b[0m\u001b[1;33m,\u001b[0m \u001b[0mother\u001b[0m\u001b[1;33m,\u001b[0m \u001b[0maxis\u001b[0m\u001b[1;33m=\u001b[0m\u001b[1;32mNone\u001b[0m\u001b[1;33m)\u001b[0m\u001b[1;33m\u001b[0m\u001b[1;33m\u001b[0m\u001b[0m\n\u001b[0m\u001b[0;32m   2092\u001b[0m \u001b[1;33m\u001b[0m\u001b[0m\n\u001b[0;32m   2093\u001b[0m         \u001b[1;32mif\u001b[0m \u001b[0misinstance\u001b[0m\u001b[1;33m(\u001b[0m\u001b[0mother\u001b[0m\u001b[1;33m,\u001b[0m \u001b[0mABCDataFrame\u001b[0m\u001b[1;33m)\u001b[0m\u001b[1;33m:\u001b[0m\u001b[1;33m\u001b[0m\u001b[1;33m\u001b[0m\u001b[0m\n",
      "\u001b[1;32m~\\Anaconda3\\lib\\site-packages\\pandas\\core\\ops.py\u001b[0m in \u001b[0;36m_align_method_FRAME\u001b[1;34m(left, right, axis)\u001b[0m\n\u001b[0;32m   1983\u001b[0m           not isinstance(right, (ABCSeries, ABCDataFrame))):\n\u001b[0;32m   1984\u001b[0m         \u001b[1;31m# GH17901\u001b[0m\u001b[1;33m\u001b[0m\u001b[1;33m\u001b[0m\u001b[1;33m\u001b[0m\u001b[0m\n\u001b[1;32m-> 1985\u001b[1;33m         \u001b[0mright\u001b[0m \u001b[1;33m=\u001b[0m \u001b[0mto_series\u001b[0m\u001b[1;33m(\u001b[0m\u001b[0mright\u001b[0m\u001b[1;33m)\u001b[0m\u001b[1;33m\u001b[0m\u001b[1;33m\u001b[0m\u001b[0m\n\u001b[0m\u001b[0;32m   1986\u001b[0m \u001b[1;33m\u001b[0m\u001b[0m\n\u001b[0;32m   1987\u001b[0m     \u001b[1;32mreturn\u001b[0m \u001b[0mright\u001b[0m\u001b[1;33m\u001b[0m\u001b[1;33m\u001b[0m\u001b[0m\n",
      "\u001b[1;32m~\\Anaconda3\\lib\\site-packages\\pandas\\core\\ops.py\u001b[0m in \u001b[0;36mto_series\u001b[1;34m(right)\u001b[0m\n\u001b[0;32m   1945\u001b[0m             \u001b[1;32mif\u001b[0m \u001b[0mlen\u001b[0m\u001b[1;33m(\u001b[0m\u001b[0mleft\u001b[0m\u001b[1;33m.\u001b[0m\u001b[0mcolumns\u001b[0m\u001b[1;33m)\u001b[0m \u001b[1;33m!=\u001b[0m \u001b[0mlen\u001b[0m\u001b[1;33m(\u001b[0m\u001b[0mright\u001b[0m\u001b[1;33m)\u001b[0m\u001b[1;33m:\u001b[0m\u001b[1;33m\u001b[0m\u001b[1;33m\u001b[0m\u001b[0m\n\u001b[0;32m   1946\u001b[0m                 raise ValueError(msg.format(req_len=len(left.columns),\n\u001b[1;32m-> 1947\u001b[1;33m                                             given_len=len(right)))\n\u001b[0m\u001b[0;32m   1948\u001b[0m             \u001b[0mright\u001b[0m \u001b[1;33m=\u001b[0m \u001b[0mleft\u001b[0m\u001b[1;33m.\u001b[0m\u001b[0m_constructor_sliced\u001b[0m\u001b[1;33m(\u001b[0m\u001b[0mright\u001b[0m\u001b[1;33m,\u001b[0m \u001b[0mindex\u001b[0m\u001b[1;33m=\u001b[0m\u001b[0mleft\u001b[0m\u001b[1;33m.\u001b[0m\u001b[0mcolumns\u001b[0m\u001b[1;33m)\u001b[0m\u001b[1;33m\u001b[0m\u001b[1;33m\u001b[0m\u001b[0m\n\u001b[0;32m   1949\u001b[0m         \u001b[1;32mreturn\u001b[0m \u001b[0mright\u001b[0m\u001b[1;33m\u001b[0m\u001b[1;33m\u001b[0m\u001b[0m\n",
      "\u001b[1;31mValueError\u001b[0m: Unable to coerce to Series, length must be 1: given 438959"
     ]
    }
   ],
   "source": [
    "matcher.fit_scores(balance=False, nmodels=1)"
   ]
  },
  {
   "cell_type": "code",
   "execution_count": 40,
   "metadata": {},
   "outputs": [
    {
     "data": {
      "text/plain": [
       "<pymatch.Matcher.Matcher at 0x19a3e98df98>"
      ]
     },
     "execution_count": 40,
     "metadata": {},
     "output_type": "execute_result"
    }
   ],
   "source": [
    "matcher"
   ]
  },
  {
   "cell_type": "code",
   "execution_count": 43,
   "metadata": {},
   "outputs": [],
   "source": [
    "import sqlite3"
   ]
  },
  {
   "cell_type": "code",
   "execution_count": null,
   "metadata": {},
   "outputs": [],
   "source": []
  }
 ],
 "metadata": {
  "kernelspec": {
   "display_name": "Python 3",
   "language": "python",
   "name": "python3"
  },
  "language_info": {
   "codemirror_mode": {
    "name": "ipython",
    "version": 3
   },
   "file_extension": ".py",
   "mimetype": "text/x-python",
   "name": "python",
   "nbconvert_exporter": "python",
   "pygments_lexer": "ipython3",
   "version": "3.6.8"
  }
 },
 "nbformat": 4,
 "nbformat_minor": 2
}
